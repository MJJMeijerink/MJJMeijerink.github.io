{
 "cells": [
  {
   "cell_type": "markdown",
   "metadata": {
    "slideshow": {
     "slide_type": "skip"
    }
   },
   "source": [
    "# Final Data Science Project 2016 \n",
    "\n",
    "## Notebook made by  \n",
    "\n",
    "|** Name** | **Student id** | **email**|\n",
    "|:- |:-|:-|\n",
    "|Jan Jaap Meijerink |10560469|janjaap.meijerink@hotmail.com |\n",
    "|Kevin Lok|10581367|kevinlok29@hotmail.com |\n",
    "|Kelvin Chan |10634061|kelvinchan_913@hotmail.com|\n",
    "\n",
    "\n",
    "> My answers to homework, quizzes and exams will be my own work (except for assignments that explicitly permit collaboration).\n",
    "\n",
    ">I will not make solutions to homework, quizzes or exams available to anyone else. This includes both solutions written by me, as well as any official solutions provided by the course staff.\n",
    "\n",
    ">I will not engage in any other activities that will dishonestly improve my results or dishonestly improve/hurt the results of others.\n",
    "\n",
    "<img src='http://mjjmeijerink.github.io/DataScience/Selfies/1.jpg'/>\n"
   ]
  },
  {
   "cell_type": "markdown",
   "metadata": {
    "slideshow": {
     "slide_type": "slide"
    }
   },
   "source": [
    "<br><br><br><br><br><br>\n",
    "<center><h1>Invloeden op de Cito Score</h1></center><br>\n",
    "<center><h4> Kelvin Chan, Kevin Lok, Jan Jaap Meijerink</h4></center><br>\n",
    "<center><h6> 2016 </h6></center><br>\n",
    "\n",
    "<br><br><br><br><br><br>\n"
   ]
  },
  {
   "cell_type": "markdown",
   "metadata": {
    "slideshow": {
     "slide_type": "skip"
    }
   },
   "source": [
    "<center><h6> ABSTRACT </h6></center><br>\n",
    "\n",
    "De cito score is eigenlijk maar een hele kleine tijdsopname omdat een cito toets maar drie dagen duurt, het bepaalt een heel groot deel van het leven van een persoon. Wij waren dus benieuwd of de cito score wel eerlijk is om als belangrijkste maatstaaf gebruikt te worden voor het bepalen van een schooladvies. Heeft iedereen wel een eerlijke kans  om zich te kunnen bewijzen op de middelbare school of zijn er factoren die dit zouden kunnen belemmeren. In dit onderzoek hebben wij onderzocht welke factoren van invloed zijn op de gemiddelde cito score, dit hebben wij per gemeente onderzocht en vanwege tijdsgebrek. Voor ons onderzoek hebben wij (x aantal) factoren gebruikt om te onderzoeken of ze van invloed waren op de cito score. \n",
    "\n",
    "\n",
    "\n"
   ]
  },
  {
   "cell_type": "markdown",
   "metadata": {
    "slideshow": {
     "slide_type": "slide"
    }
   },
   "source": [
    "<br><br><br><br><br><br>\n",
    "<center><h1>Introductie</h1></center><br>\n",
    "<center><font size=\"4\">Hebben de wijkomstandigheden invloed op de gemiddelde cito score van een school?</font></center><br>\n",
    "<br><br><br><br><br><br><br><br>\n",
    "\n",
    "\n"
   ]
  },
  {
   "cell_type": "markdown",
   "metadata": {
    "slideshow": {
     "slide_type": "fragment"
    }
   },
   "source": [
    "<center><font size=\"3\">Is het aantal herziene adviezen bepalend voor de gemiddelde cito score?</font></center>"
   ]
  },
  {
   "cell_type": "markdown",
   "metadata": {
    "slideshow": {
     "slide_type": "fragment"
    }
   },
   "source": [
    "<center><font size=\"3\">Heeft het werkloosheidscijfer invloed op de gemiddelde cito score?\n",
    "</font></center>"
   ]
  },
  {
   "cell_type": "markdown",
   "metadata": {
    "slideshow": {
     "slide_type": "fragment"
    }
   },
   "source": [
    "<center><font size=\"3\">Heeft het percentage allochtonen per gemeente invloed de gemiddelde cito score?</font></center>"
   ]
  },
  {
   "cell_type": "markdown",
   "metadata": {
    "slideshow": {
     "slide_type": "fragment"
    }
   },
   "source": [
    "<center><font size=\"3\">Heeft de woonafstand tot een basisschool invloed op de gemiddelde cito score?</font></center>"
   ]
  },
  {
   "cell_type": "markdown",
   "metadata": {
    "slideshow": {
     "slide_type": "skip"
    }
   },
   "source": [
    "\n",
    "Lorem ipsum dolor sit amet, consectetuer adipiscing elit. Aenean commodo ligula eget dolor. Aenean massa. Cum sociis natoque penatibus et magnis dis parturient montes, nascetur ridiculus mus. Donec quam felis, ultricies nec, pellentesque eu, pretium quis, sem. Nulla consequat massa quis enim. Donec pede justo, fringilla vel, aliquet nec, vulputate eget, arcu. In enim justo, rhoncus ut, imperdiet a, venenatis vitae, justo. Nullam dictum felis eu pede mollis pretium. Integer tincidunt. Cras dapibus. Vivamus elementum semper nisi. Aenean vulputate eleifend tellus. Aenean leo ligula, porttitor eu, consequat vitae, eleifend ac, enim. Aliquam lorem ante, dapibus in, viverra quis, feugiat a, tellus. Phasellus viverra nulla ut metus varius laoreet. Quisque rutrum. Aenean imperdiet. Etiam ultricies nisi vel augue. Curabitur ullamcorper ultricies nisi. Nam eget dui. Etiam rhoncus. Maecenas tempus, tellus eget condimentum rhoncus, sem quam semper libero, sit amet adipiscing sem neque sed ipsum. Nam quam nunc, blandit vel, luctus pulvinar, hendrerit id, lorem. Maecenas nec odio et ante tincidunt tempus. Donec vitae sapien ut libero venenatis faucibus. Nullam quis ante. Etiam sit amet orci eget eros faucibus tincidunt. Duis leo. Sed fringilla mauris sit amet nibh. Donec sodales sagittis magna. Sed consequat, leo eget bibendum sodales, augue velit cursus nunc,"
   ]
  },
  {
   "cell_type": "markdown",
   "metadata": {
    "slideshow": {
     "slide_type": "skip"
    }
   },
   "source": [
    "<center><h6> Gerelateerd werk </h6></center><br>\n",
    "Lorem ipsum dolor sit amet, consectetuer adipiscing elit. Aenean commodo ligula eget dolor. Aenean massa. Cum sociis natoque penatibus et magnis dis parturient montes, nascetur ridiculus mus. Donec quam felis, ultricies nec, pellentesque eu, pretium quis, sem. Nulla consequat massa quis enim. Donec pede justo, fringilla vel, aliquet nec, vulputate eget, arcu. In enim justo, rhoncus ut, imperdiet a, venenatis vitae, justo. Nullam dictum felis eu pede mollis pretium. Integer tincidunt. Cras dapibus. Vivamus elementum semper nisi. Aenean vulputate eleifend tellus. Aenean leo ligula, porttitor eu, consequat vitae, eleifend ac, enim. Aliquam lorem ante, dapibus in, viverra quis, feugiat a, tellus. Phasellus viverra nulla ut metus varius laoreet. Quisque rutrum. Aenean imperdiet. Etiam ultricies nisi vel augue. Curabitur ullamcorper ultricies nisi. Nam eget dui. Etiam rhoncus. Maecenas tempus, tellus eget condimentum rhoncus, sem quam semper libero, sit amet adipiscing sem neque sed ipsum. Nam quam nunc, blandit vel, luctus pulvinar, hendrerit id, lorem. Maecenas nec odio et ante tincidunt tempus. Donec vitae sapien ut libero venenatis faucibus. Nullam quis ante. Etiam sit amet orci eget eros faucibus tincidunt. Duis leo. Sed fringilla mauris sit amet nibh. Donec sodales sagittis magna. Sed consequat, leo eget bibendum sodales, augue velit cursus nunc,"
   ]
  },
  {
   "cell_type": "markdown",
   "metadata": {
    "slideshow": {
     "slide_type": "slide"
    }
   },
   "source": [
    "<br><center><h6> Methodology </h6></center><br>"
   ]
  },
  {
   "cell_type": "markdown",
   "metadata": {
    "slideshow": {
     "slide_type": "skip"
    }
   },
   "source": [
    "\n",
    "Lorem ipsum dolor sit amet, consectetuer adipiscing elit. Aenean commodo ligula eget dolor. Aenean massa. Cum sociis natoque penatibus et magnis dis parturient montes, nascetur ridiculus mus. Donec quam felis, ultricies nec, pellentesque eu, pretium quis, sem. Nulla consequat massa quis enim. Donec pede justo, fringilla vel, aliquet nec, vulputate eget, arcu. In enim justo, rhoncus ut, imperdiet a, venenatis vitae, justo. Nullam dictum felis eu pede mollis pretium. Integer tincidunt. Cras dapibus. Vivamus elementum semper nisi. Aenean vulputate eleifend tellus. Aenean leo ligula, porttitor eu, consequat vitae, eleifend ac, enim. Aliquam lorem ante, dapibus in, viverra quis, feugiat a, tellus. Phasellus viverra nulla ut metus varius laoreet. Quisque rutrum. Aenean imperdiet. Etiam ultricies nisi vel augue. Curabitur ullamcorper ultricies nisi. Nam eget dui. Etiam rhoncus. Maecenas tempus, tellus eget condimentum rhoncus, sem quam semper libero, sit amet adipiscing sem neque sed ipsum. Nam quam nunc, blandit vel, luctus pulvinar, hendrerit id, lorem. Maecenas nec odio et ante tincidunt tempus. Donec vitae sapien ut libero venenatis faucibus. Nullam quis ante. Etiam sit amet orci eget eros faucibus tincidunt. Duis leo. Sed fringilla mauris sit amet nibh. Donec sodales sagittis magna. Sed consequat, leo eget bibendum sodales, augue velit cursus nunc,"
   ]
  },
  {
   "cell_type": "code",
   "execution_count": 2,
   "metadata": {
    "collapsed": true,
    "slideshow": {
     "slide_type": "skip"
    }
   },
   "outputs": [],
   "source": [
    "%matplotlib inline\n",
    "import numpy as np\n",
    "import pandas as pd\n",
    "import statistics as stats\n",
    "import scipy.stats as scs\n",
    "\n",
    "schooladviezen = pd.read_csv('Schooladviezen.csv')\n",
    "citoscores = pd.read_csv('Eindscores.csv')\n",
    "\n",
    "dropColumns = ['PEILDATUM_LEERLINGEN', 'PRIKDATUM_SCORES', 'BRIN_NUMMER', \n",
    "               'SOORT_PO', 'BEVOEGD_GEZAG_NUMMER', 'ONTHEFFING_REDEN_ND',\n",
    "               'IEP_AANTAL', 'IEP_GEM', 'ROUTE8_AANTAL', 'ROUTE8_GEM', \n",
    "               'PRIKDATUM_ADVIEZEN', 'ADVIES_NIET_MOGELIJK', 'DREMPEL_AANTAL', 'DREMPEL_GEM']\n",
    "\n",
    "allData = citoscores[citoscores.CET_GEM > 0].merge(schooladviezen, how='inner').drop(dropColumns, 1)"
   ]
  },
  {
   "cell_type": "code",
   "execution_count": 3,
   "metadata": {
    "collapsed": false,
    "slideshow": {
     "slide_type": "slide"
    }
   },
   "outputs": [
    {
     "data": {
      "text/plain": [
       "PROVINCIE\n",
       "Limburg          536.173977\n",
       "Utrecht          535.547113\n",
       "Noord-Brabant    535.154485\n",
       "Zeeland          535.079755\n",
       "Friesland        534.982270\n",
       "Gelderland       534.830869\n",
       "Overijssel       534.791216\n",
       "Groningen        534.702778\n",
       "Drenthe          534.603209\n",
       "Zuid-Holland     534.510120\n",
       "Noord-Holland    534.262500\n",
       "Flevoland        533.773885\n",
       "Name: CET_GEM, dtype: float64"
      ]
     },
     "execution_count": 3,
     "metadata": {},
     "output_type": "execute_result"
    }
   ],
   "source": [
    "provincies = allData.groupby(['PROVINCIE']).mean()['CET_GEM'].sort_values(ascending=False)\n",
    "provincies"
   ]
  },
  {
   "cell_type": "code",
   "execution_count": 4,
   "metadata": {
    "collapsed": false,
    "slideshow": {
     "slide_type": "slide"
    }
   },
   "outputs": [
    {
     "data": {
      "text/plain": [
       "DENOMINATIE_VESTIGING\n",
       "Algemeen bijzonder          536.665471\n",
       "Reformatorisch              536.135256\n",
       "Gereformeerd vrijgemaakt    535.894175\n",
       "Rooms-Katholiek             535.392995\n",
       "Hindoeistisch               535.066667\n",
       "Protestants-Christelijk     535.017190\n",
       "Antroposofisch              534.643750\n",
       "Joods                       534.050000\n",
       "Openbaar                    533.966610\n",
       "Samenwerking Opb., PC       533.600000\n",
       "Samenwerking PC, RK         533.432653\n",
       "Islamitisch                 532.352632\n",
       "Samenwerking Opb., RK       532.200000\n",
       "Evangelisch                 532.200000\n",
       "Interconfessioneel          530.428571\n",
       "Name: CET_GEM, dtype: float64"
      ]
     },
     "execution_count": 4,
     "metadata": {},
     "output_type": "execute_result"
    }
   ],
   "source": [
    "denominaties = allData.groupby(['DENOMINATIE_VESTIGING']).mean()['CET_GEM'].sort_values(ascending=False)\n",
    "denominaties"
   ]
  },
  {
   "cell_type": "code",
   "execution_count": 5,
   "metadata": {
    "collapsed": false,
    "slideshow": {
     "slide_type": "slide"
    }
   },
   "outputs": [
    {
     "data": {
      "text/plain": [
       "GEMEENTENAAM\n",
       "Rozendaal                        541.900000\n",
       "Wassenaar                        540.055556\n",
       "Bussum                           539.950000\n",
       "Oegstgeest                       539.950000\n",
       "Laren                            539.600000\n",
       "Gulpen-Wittem                    539.557143\n",
       "Nuth                             539.100000\n",
       "Voerendaal                       538.950000\n",
       "Bloemendaal                      538.850000\n",
       "Eijsden-Margraten                538.509091\n",
       "Heemstede                        538.414286\n",
       "Weesp                            538.360000\n",
       "Mill en Sint Hubert              538.133333\n",
       "Blaricum                         538.125000\n",
       "Ouder-Amstel                     538.080000\n",
       "Veldhoven                        538.050000\n",
       "Nuenen, Gerwen en Nederwetten    538.042857\n",
       "Noordwijk                        537.930000\n",
       "Halderberge                      537.800000\n",
       "Staphorst                        537.800000\n",
       "Huizen                           537.772727\n",
       "Bergen (L.)                      537.728571\n",
       "Amstelveen                       537.725000\n",
       "Scherpenzeel                     537.700000\n",
       "Tynaarlo                         537.650000\n",
       "Leudal                           537.635714\n",
       "Naarden                          537.583333\n",
       "Weststellingwerf                 537.580000\n",
       "Uitgeest                         537.550000\n",
       "Druten                           537.542857\n",
       "                                    ...    \n",
       "Meppel                           532.800000\n",
       "Amsterdam                        532.790821\n",
       "Bellingwedde                     532.787500\n",
       "De Wolden                        532.764286\n",
       "Delfzijl                         532.750000\n",
       "Vlaardingen                      532.705263\n",
       "Lingewaal                        532.622222\n",
       "Velsen                           532.610000\n",
       "Heerde                           532.558333\n",
       "Hellevoetsluis                   532.500000\n",
       "Oldebroek                        532.433333\n",
       "Zoeterwoude                      532.425000\n",
       "Rotterdam                        532.400621\n",
       "Ouderkerk                        532.340000\n",
       "Culemborg                        532.230769\n",
       "Appingedam                       532.175000\n",
       "Wormerland                       532.066667\n",
       "Schiedam                         532.041176\n",
       "Hoorn                            531.740000\n",
       "Kaag en Braassem                 531.660000\n",
       "Maassluis                        531.500000\n",
       "Cromstrijen                      531.500000\n",
       "Zeevang                          531.350000\n",
       "Smallingerland                   531.200000\n",
       "Medemblik                        530.700000\n",
       "Graft-De Rijp                    530.400000\n",
       "Enkhuizen                        530.333333\n",
       "Zaanstad                         530.200000\n",
       "Beverwijk                        529.425000\n",
       "Purmerend                        528.666667\n",
       "Name: CET_GEM, dtype: float64"
      ]
     },
     "execution_count": 5,
     "metadata": {},
     "output_type": "execute_result"
    }
   ],
   "source": [
    "gemeentenamen = allData.groupby(['GEMEENTENAAM']).mean()['CET_GEM'].sort_values(ascending=False)\n",
    "gemeentenamen"
   ]
  },
  {
   "cell_type": "code",
   "execution_count": 7,
   "metadata": {
    "collapsed": true,
    "slideshow": {
     "slide_type": "skip"
    }
   },
   "outputs": [],
   "source": [
    "def normalize_advies(x):\n",
    "    return (x['ADVIES_HERZIEN']/x['LEERJAAR_8']) * 100\n",
    "\n",
    "group_by_gemeente = allData.groupby(['GEMEENTENAAM']).sum().apply(lambda x: normalize_advies(x),\\\n",
    "                                                                  1).sort_values(ascending=False)\n",
    "gemeente_herzien = pd.concat([gemeentenamen, group_by_gemeente], axis=1)\n",
    "gemeente_herzien.columns = ['CET_GEM', 'ADVIES_HERZIEN']"
   ]
  },
  {
   "cell_type": "code",
   "execution_count": 8,
   "metadata": {
    "collapsed": false,
    "slideshow": {
     "slide_type": "slide"
    }
   },
   "outputs": [
    {
     "data": {
      "text/html": [
       "<div>\n",
       "<table border=\"1\" class=\"dataframe\">\n",
       "  <thead>\n",
       "    <tr style=\"text-align: right;\">\n",
       "      <th></th>\n",
       "      <th>CET_GEM</th>\n",
       "      <th>ADVIES_HERZIEN</th>\n",
       "    </tr>\n",
       "  </thead>\n",
       "  <tbody>\n",
       "    <tr>\n",
       "      <th>CET_GEM</th>\n",
       "      <td>1.000000</td>\n",
       "      <td>0.010548</td>\n",
       "    </tr>\n",
       "    <tr>\n",
       "      <th>ADVIES_HERZIEN</th>\n",
       "      <td>0.010548</td>\n",
       "      <td>1.000000</td>\n",
       "    </tr>\n",
       "  </tbody>\n",
       "</table>\n",
       "</div>"
      ],
      "text/plain": [
       "                 CET_GEM  ADVIES_HERZIEN\n",
       "CET_GEM         1.000000        0.010548\n",
       "ADVIES_HERZIEN  0.010548        1.000000"
      ]
     },
     "execution_count": 8,
     "metadata": {},
     "output_type": "execute_result"
    }
   ],
   "source": [
    "gemeente_herzien.corr()"
   ]
  },
  {
   "cell_type": "code",
   "execution_count": 26,
   "metadata": {
    "collapsed": true,
    "slideshow": {
     "slide_type": "skip"
    }
   },
   "outputs": [],
   "source": [
    "criminaliteit = pd.read_csv('criminaliteit.csv')\n",
    "kerncijfers = pd.read_csv('kerncijfers.csv')\n",
    "\n",
    "def merge(x):\n",
    "    return x[1:].sum()\n",
    "\n",
    "criminaliteit['total'] = criminaliteit.apply(lambda x: merge(x), 1)\n",
    "data = pd.concat([criminaliteit[\"Regio's\"], criminaliteit['total'], kerncijfers['aantal inwoners']\\\n",
    "                  , kerncijfers['% allochtonen'], kerncijfers['WW-uitkeringen'],\\\n",
    "                 kerncijfers['afstand tot school in km'], kerncijfers['% huishoudens met kinderen']], 1).set_index(\"Regio's\")\n",
    "data['CET_GEM'] = gemeentenamen\n",
    "data['normalized crime'] = data.apply(lambda x: x['total'] / x['aantal inwoners'], 1)"
   ]
  },
  {
   "cell_type": "code",
   "execution_count": 11,
   "metadata": {
    "collapsed": false,
    "slideshow": {
     "slide_type": "slide"
    }
   },
   "outputs": [
    {
     "data": {
      "text/html": [
       "<div>\n",
       "<table border=\"1\" class=\"dataframe\">\n",
       "  <thead>\n",
       "    <tr style=\"text-align: right;\">\n",
       "      <th></th>\n",
       "      <th>CET_GEM</th>\n",
       "      <th>WW-uitkeringen</th>\n",
       "    </tr>\n",
       "  </thead>\n",
       "  <tbody>\n",
       "    <tr>\n",
       "      <th>CET_GEM</th>\n",
       "      <td>1.000000</td>\n",
       "      <td>-0.122227</td>\n",
       "    </tr>\n",
       "    <tr>\n",
       "      <th>WW-uitkeringen</th>\n",
       "      <td>-0.122227</td>\n",
       "      <td>1.000000</td>\n",
       "    </tr>\n",
       "  </tbody>\n",
       "</table>\n",
       "</div>"
      ],
      "text/plain": [
       "                 CET_GEM  WW-uitkeringen\n",
       "CET_GEM         1.000000       -0.122227\n",
       "WW-uitkeringen -0.122227        1.000000"
      ]
     },
     "execution_count": 11,
     "metadata": {},
     "output_type": "execute_result"
    }
   ],
   "source": [
    "data.dropna()[['CET_GEM', 'WW-uitkeringen']].corr()"
   ]
  },
  {
   "cell_type": "code",
   "execution_count": 12,
   "metadata": {
    "collapsed": false,
    "slideshow": {
     "slide_type": "slide"
    }
   },
   "outputs": [
    {
     "data": {
      "text/html": [
       "<div>\n",
       "<table border=\"1\" class=\"dataframe\">\n",
       "  <thead>\n",
       "    <tr style=\"text-align: right;\">\n",
       "      <th></th>\n",
       "      <th>CET_GEM</th>\n",
       "      <th>% allochtonen</th>\n",
       "    </tr>\n",
       "  </thead>\n",
       "  <tbody>\n",
       "    <tr>\n",
       "      <th>CET_GEM</th>\n",
       "      <td>1.000000</td>\n",
       "      <td>-0.027101</td>\n",
       "    </tr>\n",
       "    <tr>\n",
       "      <th>% allochtonen</th>\n",
       "      <td>-0.027101</td>\n",
       "      <td>1.000000</td>\n",
       "    </tr>\n",
       "  </tbody>\n",
       "</table>\n",
       "</div>"
      ],
      "text/plain": [
       "                CET_GEM  % allochtonen\n",
       "CET_GEM        1.000000      -0.027101\n",
       "% allochtonen -0.027101       1.000000"
      ]
     },
     "execution_count": 12,
     "metadata": {},
     "output_type": "execute_result"
    }
   ],
   "source": [
    "data.dropna()[['CET_GEM', '% allochtonen']].corr()"
   ]
  },
  {
   "cell_type": "code",
   "execution_count": 14,
   "metadata": {
    "collapsed": true,
    "slideshow": {
     "slide_type": "skip"
    }
   },
   "outputs": [],
   "source": [
    "allData['4cijfer'] = allData.apply(lambda x: x['POSTCODE_VESTIGING'][:4], 1)\n",
    "postcodes = allData.groupby('4cijfer').mean()['CET_GEM']\n",
    "\n",
    "postcode_data = pd.read_csv('Postcodecijfers.csv')\n",
    "postcode_data['Postcodes op 1 januari'] = postcode_data['Postcodes op 1 januari'].str[:4]\n",
    "postcode_data.set_index('Postcodes op 1 januari', inplace=True)\n",
    "postcode_data = pd.concat([postcode_data, postcodes], 1).dropna()\n",
    "\n",
    "for column in postcode_data.columns[1:-4]:\n",
    "    postcode_data[column + ' normalized'] = postcode_data.apply(lambda x: x[column] / float(x['aantal inwoners']), 1)"
   ]
  },
  {
   "cell_type": "code",
   "execution_count": 17,
   "metadata": {
    "collapsed": false,
    "slideshow": {
     "slide_type": "slide"
    }
   },
   "outputs": [
    {
     "data": {
      "text/html": [
       "<div>\n",
       "<table border=\"1\" class=\"dataframe\">\n",
       "  <thead>\n",
       "    <tr style=\"text-align: right;\">\n",
       "      <th></th>\n",
       "      <th>Niet-westerse allochtonen normalized</th>\n",
       "      <th>CET_GEM</th>\n",
       "    </tr>\n",
       "  </thead>\n",
       "  <tbody>\n",
       "    <tr>\n",
       "      <th>Niet-westerse allochtonen normalized</th>\n",
       "      <td>1.000000</td>\n",
       "      <td>-0.317566</td>\n",
       "    </tr>\n",
       "    <tr>\n",
       "      <th>CET_GEM</th>\n",
       "      <td>-0.317566</td>\n",
       "      <td>1.000000</td>\n",
       "    </tr>\n",
       "  </tbody>\n",
       "</table>\n",
       "</div>"
      ],
      "text/plain": [
       "                                      Niet-westerse allochtonen normalized  \\\n",
       "Niet-westerse allochtonen normalized                              1.000000   \n",
       "CET_GEM                                                          -0.317566   \n",
       "\n",
       "                                       CET_GEM  \n",
       "Niet-westerse allochtonen normalized -0.317566  \n",
       "CET_GEM                               1.000000  "
      ]
     },
     "execution_count": 17,
     "metadata": {},
     "output_type": "execute_result"
    }
   ],
   "source": [
    "postcode_data[['Niet-westerse allochtonen normalized', 'CET_GEM']].corr()"
   ]
  },
  {
   "cell_type": "code",
   "execution_count": 18,
   "metadata": {
    "collapsed": false,
    "slideshow": {
     "slide_type": "slide"
    }
   },
   "outputs": [
    {
     "data": {
      "text/html": [
       "<div>\n",
       "<table border=\"1\" class=\"dataframe\">\n",
       "  <thead>\n",
       "    <tr style=\"text-align: right;\">\n",
       "      <th></th>\n",
       "      <th>Westerse allochtonen normalized</th>\n",
       "      <th>CET_GEM</th>\n",
       "    </tr>\n",
       "  </thead>\n",
       "  <tbody>\n",
       "    <tr>\n",
       "      <th>Westerse allochtonen normalized</th>\n",
       "      <td>1.000000</td>\n",
       "      <td>0.012864</td>\n",
       "    </tr>\n",
       "    <tr>\n",
       "      <th>CET_GEM</th>\n",
       "      <td>0.012864</td>\n",
       "      <td>1.000000</td>\n",
       "    </tr>\n",
       "  </tbody>\n",
       "</table>\n",
       "</div>"
      ],
      "text/plain": [
       "                                 Westerse allochtonen normalized   CET_GEM\n",
       "Westerse allochtonen normalized                         1.000000  0.012864\n",
       "CET_GEM                                                 0.012864  1.000000"
      ]
     },
     "execution_count": 18,
     "metadata": {},
     "output_type": "execute_result"
    }
   ],
   "source": [
    "postcode_data[['Westerse allochtonen normalized', 'CET_GEM']].corr()"
   ]
  },
  {
   "cell_type": "markdown",
   "metadata": {
    "slideshow": {
     "slide_type": "slide"
    }
   },
   "source": [
    "<br><center><h6> Evaluatie </h6></center><br>"
   ]
  },
  {
   "cell_type": "markdown",
   "metadata": {
    "slideshow": {
     "slide_type": "skip"
    }
   },
   "source": [
    "\n",
    "Lorem ipsum dolor sit amet, consectetuer adipiscing elit. Aenean commodo ligula eget dolor. Aenean massa. Cum sociis natoque penatibus et magnis dis parturient montes, nascetur ridiculus mus. Donec quam felis, ultricies nec, pellentesque eu, pretium quis, sem. Nulla consequat massa quis enim. Donec pede justo, fringilla vel, aliquet nec, vulputate eget, arcu. In enim justo, rhoncus ut, imperdiet a, venenatis vitae, justo. Nullam dictum felis eu pede mollis pretium. Integer tincidunt. Cras dapibus. Vivamus elementum semper nisi. Aenean vulputate eleifend tellus. Aenean leo ligula, porttitor eu, consequat vitae, eleifend ac, enim. Aliquam lorem ante, dapibus in, viverra quis, feugiat a, tellus. Phasellus viverra nulla ut metus varius laoreet. Quisque rutrum. Aenean imperdiet. Etiam ultricies nisi vel augue. Curabitur ullamcorper ultricies nisi. Nam eget dui. Etiam rhoncus. Maecenas tempus, tellus eget condimentum rhoncus, sem quam semper libero, sit amet adipiscing sem neque sed ipsum. Nam quam nunc, blandit vel, luctus pulvinar, hendrerit id, lorem. Maecenas nec odio et ante tincidunt tempus. Donec vitae sapien ut libero venenatis faucibus. Nullam quis ante. Etiam sit amet orci eget eros faucibus tincidunt. Duis leo. Sed fringilla mauris sit amet nibh. Donec sodales sagittis magna. Sed consequat, leo eget bibendum sodales, augue velit cursus nunc,"
   ]
  },
  {
   "cell_type": "code",
   "execution_count": 19,
   "metadata": {
    "collapsed": false,
    "slideshow": {
     "slide_type": "fragment"
    }
   },
   "outputs": [
    {
     "data": {
      "text/plain": [
       "<matplotlib.axes._subplots.AxesSubplot at 0x10887c050>"
      ]
     },
     "execution_count": 19,
     "metadata": {},
     "output_type": "execute_result"
    },
    {
     "data": {
      "image/png": "[encoded data removed]",
      "text/plain": [
       "<matplotlib.figure.Figure at 0x10847c3d0>"
      ]
     },
     "metadata": {},
     "output_type": "display_data"
    }
   ],
   "source": [
    "provincies.plot(kind='bar', ylim=[500,550], rot=85)"
   ]
  },
  {
   "cell_type": "code",
   "execution_count": 20,
   "metadata": {
    "collapsed": false,
    "slideshow": {
     "slide_type": "fragment"
    }
   },
   "outputs": [
    {
     "data": {
      "text/plain": [
       "<matplotlib.axes._subplots.AxesSubplot at 0x10814fa50>"
      ]
     },
     "execution_count": 20,
     "metadata": {},
     "output_type": "execute_result"
    },
    {
     "data": {
      "image/png": "[encoded data removed]",
      "text/plain": [
       "<matplotlib.figure.Figure at 0x10880fc10>"
      ]
     },
     "metadata": {},
     "output_type": "display_data"
    }
   ],
   "source": [
    "denominaties.plot(kind='bar', ylim = [500, 550], rot = 85)"
   ]
  },
  {
   "cell_type": "code",
   "execution_count": 21,
   "metadata": {
    "collapsed": false,
    "slideshow": {
     "slide_type": "fragment"
    }
   },
   "outputs": [
    {
     "data": {
      "text/plain": [
       "<matplotlib.axes._subplots.AxesSubplot at 0x1081a1150>"
      ]
     },
     "execution_count": 21,
     "metadata": {},
     "output_type": "execute_result"
    },
    {
     "data": {
      "image/png": "[encoded data removed]",
      "text/plain": [
       "<matplotlib.figure.Figure at 0x10847cad0>"
      ]
     },
     "metadata": {},
     "output_type": "display_data"
    }
   ],
   "source": [
    "data.plot(kind='scatter', y='CET_GEM', x='WW-uitkeringen')"
   ]
  },
  {
   "cell_type": "code",
   "execution_count": 22,
   "metadata": {
    "collapsed": false,
    "slideshow": {
     "slide_type": "fragment"
    }
   },
   "outputs": [
    {
     "data": {
      "text/plain": [
       "<matplotlib.axes._subplots.AxesSubplot at 0x109e1d910>"
      ]
     },
     "execution_count": 22,
     "metadata": {},
     "output_type": "execute_result"
    },
    {
     "data": {
      "image/png": "[encoded data removed]",
      "text/plain": [
       "<matplotlib.figure.Figure at 0x109e39cd0>"
      ]
     },
     "metadata": {},
     "output_type": "display_data"
    }
   ],
   "source": [
    "data.plot(kind='scatter', y='CET_GEM', x='% allochtonen')"
   ]
  },
  {
   "cell_type": "code",
   "execution_count": 24,
   "metadata": {
    "collapsed": false,
    "slideshow": {
     "slide_type": "fragment"
    }
   },
   "outputs": [
    {
     "data": {
      "text/plain": [
       "<matplotlib.axes._subplots.AxesSubplot at 0x10a4de9d0>"
      ]
     },
     "execution_count": 24,
     "metadata": {},
     "output_type": "execute_result"
    },
    {
     "data": {
      "image/png": "[encoded data removed]",
      "text/plain": [
       "<matplotlib.figure.Figure at 0x109e440d0>"
      ]
     },
     "metadata": {},
     "output_type": "display_data"
    }
   ],
   "source": [
    "postcode_data.plot(kind='scatter', x='Niet-westerse allochtonen normalized', y='CET_GEM')"
   ]
  },
  {
   "cell_type": "code",
   "execution_count": 25,
   "metadata": {
    "collapsed": false,
    "slideshow": {
     "slide_type": "fragment"
    }
   },
   "outputs": [
    {
     "data": {
      "text/plain": [
       "<matplotlib.axes._subplots.AxesSubplot at 0x10a67bf90>"
      ]
     },
     "execution_count": 25,
     "metadata": {},
     "output_type": "execute_result"
    },
    {
     "data": {
      "image/png": "[encoded data removed]",
      "text/plain": [
       "<matplotlib.figure.Figure at 0x109e8b050>"
      ]
     },
     "metadata": {},
     "output_type": "display_data"
    }
   ],
   "source": [
    "postcode_data.plot(kind='scatter', x='Westerse allochtonen normalized', y='CET_GEM')"
   ]
  },
  {
   "cell_type": "markdown",
   "metadata": {
    "slideshow": {
     "slide_type": "slide"
    }
   },
   "source": [
    "<br><center><h6> Conclusion </h6></center><br>"
   ]
  },
  {
   "cell_type": "markdown",
   "metadata": {
    "slideshow": {
     "slide_type": "skip"
    }
   },
   "source": [
    "\n",
    "Lorem ipsum dolor sit amet, consectetuer adipiscing elit. Aenean commodo ligula eget dolor. Aenean massa. Cum sociis natoque penatibus et magnis dis parturient montes, nascetur ridiculus mus. Donec quam felis, ultricies nec, pellentesque eu, pretium quis, sem. Nulla consequat massa quis enim. Donec pede justo, fringilla vel, aliquet nec, vulputate eget, arcu. In enim justo, rhoncus ut, imperdiet a, venenatis vitae, justo. Nullam dictum felis eu pede mollis pretium. Integer tincidunt. Cras dapibus. Vivamus elementum semper nisi. Aenean vulputate eleifend tellus. Aenean leo ligula, porttitor eu, consequat vitae, eleifend ac, enim. Aliquam lorem ante, dapibus in, viverra quis, feugiat a, tellus. Phasellus viverra nulla ut metus varius laoreet. Quisque rutrum. Aenean imperdiet. Etiam ultricies nisi vel augue. Curabitur ullamcorper ultricies nisi. Nam eget dui. Etiam rhoncus. Maecenas tempus, tellus eget condimentum rhoncus, sem quam semper libero, sit amet adipiscing sem neque sed ipsum. Nam quam nunc, blandit vel, luctus pulvinar, hendrerit id, lorem. Maecenas nec odio et ante tincidunt tempus. Donec vitae sapien ut libero venenatis faucibus. Nullam quis ante. Etiam sit amet orci eget eros faucibus tincidunt. Duis leo. Sed fringilla mauris sit amet nibh. Donec sodales sagittis magna. Sed consequat, leo eget bibendum sodales, augue velit cursus nunc,"
   ]
  },
  {
   "cell_type": "markdown",
   "metadata": {
    "slideshow": {
     "slide_type": "skip"
    }
   },
   "source": [
    "<br><center><h6> Einde </h6></center><br>"
   ]
  }
 ],
 "metadata": {
  "celltoolbar": "Slideshow",
  "kernelspec": {
   "display_name": "Python 2",
   "language": "python",
   "name": "python2"
  },
  "language_info": {
   "codemirror_mode": {
    "name": "ipython",
    "version": 2
   },
   "file_extension": ".py",
   "mimetype": "text/x-python",
   "name": "python",
   "nbconvert_exporter": "python",
   "pygments_lexer": "ipython2",
   "version": "2.7.11"
  }
 },
 "nbformat": 4,
 "nbformat_minor": 0
}
