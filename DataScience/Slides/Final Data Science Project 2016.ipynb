{
 "cells": [
  {
   "cell_type": "markdown",
   "metadata": {
    "slideshow": {
     "slide_type": "skip"
    }
   },
   "source": [
    "# Final Data Science Project 2016 \n",
    "\n",
    "## Notebook made by  \n",
    "\n",
    "|** Name** | **Student id** | **email**|\n",
    "|:- |:-|:-|\n",
    "|Jan Jaap Meijerink |10560469|janjaap.meijerink@hotmail.com |\n",
    "|Kevin Lok|10581367|kevinlok29@hotmail.com |\n",
    "|Kelvin Chan |10634061|kelvinchan_913@hotmail.com|\n",
    "\n",
    "\n",
    "> My answers to homework, quizzes and exams will be my own work (except for assignments that explicitly permit collaboration).\n",
    "\n",
    ">I will not make solutions to homework, quizzes or exams available to anyone else. This includes both solutions written by me, as well as any official solutions provided by the course staff.\n",
    "\n",
    ">I will not engage in any other activities that will dishonestly improve my results or dishonestly improve/hurt the results of others.\n",
    "\n",
    "<img src='http://mjjmeijerink.github.io/DataScience/Selfies/1.jpg'/>\n"
   ]
  },
  {
   "cell_type": "markdown",
   "metadata": {
    "slideshow": {
     "slide_type": "slide"
    }
   },
   "source": [
    "<br><br><br><br><br><br>\n",
    "<center><h1>Invloeden op de Cito Score</h1></center><br>\n",
    "<center><h4> Kelvin Chan, Kevin Lok, Jan Jaap Meijerink</h4></center><br>\n",
    "<center><h6> 2016 </h6></center><br>\n",
    "\n",
    "<br><br><br><br><br><br>\n"
   ]
  },
  {
   "cell_type": "markdown",
   "metadata": {
    "slideshow": {
     "slide_type": "skip"
    }
   },
   "source": [
    "<center><h6> ABSTRACT </h6></center><br>\n",
    "\n",
    "De cito score is eigenlijk maar een hele kleine tijdsopname omdat een cito toets maar drie dagen duurt, het bepaalt een heel groot deel van het leven van een persoon. Wij waren dus benieuwd of de cito score wel eerlijk is om als belangrijkste maatstaaf gebruikt te worden voor het bepalen van een schooladvies. Heeft iedereen wel een eerlijke kans  om zich te kunnen bewijzen op de middelbare school of zijn er factoren die dit zouden kunnen belemmeren. In dit onderzoek hebben wij onderzocht welke factoren van invloed zijn op de gemiddelde cito score, dit hebben wij per gemeente onderzocht en vanwege tijdsgebrek. Voor ons onderzoek hebben wij (x aantal) factoren gebruikt om te onderzoeken of ze van invloed waren op de cito score. \n",
    "\n",
    "\n",
    "\n"
   ]
  },
  {
   "cell_type": "markdown",
   "metadata": {
    "slideshow": {
     "slide_type": "slide"
    }
   },
   "source": [
    "<br><br><br>\n",
    "<center><h1>Introductie</h1></center><br>\n",
    "<center><font size=\"4\">Hebben de wijkomstandigheden invloed op de gemiddelde Cito score van een school?</font></center><br>\n",
    "\n"
   ]
  },
  {
   "cell_type": "markdown",
   "metadata": {
    "slideshow": {
     "slide_type": "fragment"
    }
   },
   "source": [
    "- Heeft het werkloosheidscijfer per postcode invloed op de gemiddelde Cito score?\n"
   ]
  },
  {
   "cell_type": "markdown",
   "metadata": {
    "slideshow": {
     "slide_type": "fragment"
    }
   },
   "source": [
    "- Heeft het percentage allochtonen per postcode invloed de gemiddelde Cito score?"
   ]
  },
  {
   "cell_type": "markdown",
   "metadata": {
    "slideshow": {
     "slide_type": "fragment"
    }
   },
   "source": [
    "- Heeft de woonafstand tot een basisschool invloed op de gemiddelde Cito score?"
   ]
  },
  {
   "cell_type": "markdown",
   "metadata": {
    "slideshow": {
     "slide_type": "skip"
    }
   },
   "source": [
    "\n",
    "Lorem ipsum dolor sit amet, consectetuer adipiscing elit. Aenean commodo ligula eget dolor. Aenean massa. Cum sociis natoque penatibus et magnis dis parturient montes, nascetur ridiculus mus. Donec quam felis, ultricies nec, pellentesque eu, pretium quis, sem. Nulla consequat massa quis enim. Donec pede justo, fringilla vel, aliquet nec, vulputate eget, arcu. In enim justo, rhoncus ut, imperdiet a, venenatis vitae, justo. Nullam dictum felis eu pede mollis pretium. Integer tincidunt. Cras dapibus. Vivamus elementum semper nisi. Aenean vulputate eleifend tellus. Aenean leo ligula, porttitor eu, consequat vitae, eleifend ac, enim. Aliquam lorem ante, dapibus in, viverra quis, feugiat a, tellus. Phasellus viverra nulla ut metus varius laoreet. Quisque rutrum. Aenean imperdiet. Etiam ultricies nisi vel augue. Curabitur ullamcorper ultricies nisi. Nam eget dui. Etiam rhoncus. Maecenas tempus, tellus eget condimentum rhoncus, sem quam semper libero, sit amet adipiscing sem neque sed ipsum. Nam quam nunc, blandit vel, luctus pulvinar, hendrerit id, lorem. Maecenas nec odio et ante tincidunt tempus. Donec vitae sapien ut libero venenatis faucibus. Nullam quis ante. Etiam sit amet orci eget eros faucibus tincidunt. Duis leo. Sed fringilla mauris sit amet nibh. Donec sodales sagittis magna. Sed consequat, leo eget bibendum sodales, augue velit cursus nunc,"
   ]
  },
  {
   "cell_type": "markdown",
   "metadata": {
    "slideshow": {
     "slide_type": "slide"
    }
   },
   "source": [
    "<center><h5> Gerelateerd werk </h5></center><br>\n",
    "\n",
    "\n",
    "- Onderzoek naar invloed van gezinssamenstelling op de Cito score - CBS (2011)\n",
    "- Relatie tussen leesgedrag en Cito score - D. Kortlever, J. Lemmens (2012)\n",
    "- Genen en Cito score - E.L. de Zeeuw (2012)\n",
    "\n",
    "\n",
    "<br><br>"
   ]
  },
  {
   "cell_type": "markdown",
   "metadata": {
    "slideshow": {
     "slide_type": "slide"
    }
   },
   "source": [
    "<br><center><h5> Methodologie </h5></center><br>"
   ]
  },
  {
   "cell_type": "markdown",
   "metadata": {
    "slideshow": {
     "slide_type": "fragment"
    }
   },
   "source": [
    "<center><font size=\"3\">Hoe is de data die wij hebben gebruikt verzameld?\n",
    "</font></center><br>\n",
    "<center><font size=\"3\">Hoe willen wij onze hoofdvraag gaan beantwoorden?\n",
    "</font></center>\n",
    "\n"
   ]
  },
  {
   "cell_type": "code",
   "execution_count": 82,
   "metadata": {
    "collapsed": true,
    "slideshow": {
     "slide_type": "skip"
    }
   },
   "outputs": [],
   "source": [
    "%matplotlib inline\n",
    "import numpy as np\n",
    "import pandas as pd\n",
    "import statistics as stats\n",
    "import scipy.stats as scs\n",
    "\n",
    "schooladviezen = pd.read_csv('Schooladviezen.csv')\n",
    "citoscores = pd.read_csv('Eindscores.csv')\n",
    "criminaliteit = pd.read_csv('criminaliteit.csv')\n",
    "kerncijfers = pd.read_csv('kerncijfers.csv')\n",
    "postcode_data = pd.read_csv('Postcodecijfers.csv')\n",
    "\n",
    "\n",
    "dropColumns = ['PEILDATUM_LEERLINGEN', 'PRIKDATUM_SCORES', 'BRIN_NUMMER', \n",
    "               'SOORT_PO', 'BEVOEGD_GEZAG_NUMMER', 'ONTHEFFING_REDEN_ND',\n",
    "               'IEP_AANTAL', 'IEP_GEM', 'ROUTE8_AANTAL', 'ROUTE8_GEM', \n",
    "               'PRIKDATUM_ADVIEZEN', 'ADVIES_NIET_MOGELIJK', 'DREMPEL_AANTAL', 'DREMPEL_GEM']\n",
    "\n",
    "allData = citoscores[citoscores.CET_GEM > 0].merge(schooladviezen, how='inner').drop(dropColumns, 1)"
   ]
  },
  {
   "cell_type": "code",
   "execution_count": 83,
   "metadata": {
    "collapsed": false,
    "slideshow": {
     "slide_type": "slide"
    }
   },
   "outputs": [
    {
     "data": {
      "text/html": [
       "<div>\n",
       "<table border=\"1\" class=\"dataframe\">\n",
       "  <thead>\n",
       "    <tr style=\"text-align: right;\">\n",
       "      <th></th>\n",
       "      <th>VESTIGINGSNUMMER</th>\n",
       "      <th>INSTELLINGSNAAM_VESTIGING</th>\n",
       "      <th>POSTCODE_VESTIGING</th>\n",
       "      <th>PLAATSNAAM</th>\n",
       "      <th>GEMEENTENUMMER</th>\n",
       "      <th>GEMEENTENAAM</th>\n",
       "      <th>PROVINCIE</th>\n",
       "      <th>DENOMINATIE_VESTIGING</th>\n",
       "      <th>LEERJAAR_8</th>\n",
       "      <th>CET_AANTAL</th>\n",
       "      <th>...</th>\n",
       "      <th>VMBO_BL_KL</th>\n",
       "      <th>VMBO_KL</th>\n",
       "      <th>VMBO_KL_GT</th>\n",
       "      <th>VMBO_GT</th>\n",
       "      <th>VMBO_GT_HAVO</th>\n",
       "      <th>HAVO</th>\n",
       "      <th>HAVO_VWO</th>\n",
       "      <th>VWO</th>\n",
       "      <th>TOTAAL_ADVIES</th>\n",
       "      <th>ADVIES_HERZIEN</th>\n",
       "    </tr>\n",
       "  </thead>\n",
       "  <tbody>\n",
       "    <tr>\n",
       "      <th>0</th>\n",
       "      <td>0</td>\n",
       "      <td>De Schanskorf</td>\n",
       "      <td>2715BT</td>\n",
       "      <td>ZOETERMEER</td>\n",
       "      <td>637</td>\n",
       "      <td>Zoetermeer</td>\n",
       "      <td>Zuid-Holland</td>\n",
       "      <td>Gereformeerd vrijgemaakt</td>\n",
       "      <td>11</td>\n",
       "      <td>11</td>\n",
       "      <td>...</td>\n",
       "      <td>0</td>\n",
       "      <td>1</td>\n",
       "      <td>1</td>\n",
       "      <td>2</td>\n",
       "      <td>0</td>\n",
       "      <td>5</td>\n",
       "      <td>1</td>\n",
       "      <td>1</td>\n",
       "      <td>11</td>\n",
       "      <td>0</td>\n",
       "    </tr>\n",
       "    <tr>\n",
       "      <th>1</th>\n",
       "      <td>0</td>\n",
       "      <td>BS \"De Maasparel\"</td>\n",
       "      <td>6109AM</td>\n",
       "      <td>OHE EN LAAK</td>\n",
       "      <td>1641</td>\n",
       "      <td>Maasgouw</td>\n",
       "      <td>Limburg</td>\n",
       "      <td>Rooms-Katholiek</td>\n",
       "      <td>18</td>\n",
       "      <td>18</td>\n",
       "      <td>...</td>\n",
       "      <td>0</td>\n",
       "      <td>0</td>\n",
       "      <td>0</td>\n",
       "      <td>4</td>\n",
       "      <td>0</td>\n",
       "      <td>7</td>\n",
       "      <td>0</td>\n",
       "      <td>6</td>\n",
       "      <td>18</td>\n",
       "      <td>0</td>\n",
       "    </tr>\n",
       "    <tr>\n",
       "      <th>2</th>\n",
       "      <td>0</td>\n",
       "      <td>De Kiezel en de Kei</td>\n",
       "      <td>2971AR</td>\n",
       "      <td>BLESKENSGRAAF CA</td>\n",
       "      <td>1927</td>\n",
       "      <td>Molenwaard</td>\n",
       "      <td>Zuid-Holland</td>\n",
       "      <td>Openbaar</td>\n",
       "      <td>24</td>\n",
       "      <td>22</td>\n",
       "      <td>...</td>\n",
       "      <td>3</td>\n",
       "      <td>0</td>\n",
       "      <td>0</td>\n",
       "      <td>4</td>\n",
       "      <td>5</td>\n",
       "      <td>3</td>\n",
       "      <td>2</td>\n",
       "      <td>4</td>\n",
       "      <td>22</td>\n",
       "      <td>0</td>\n",
       "    </tr>\n",
       "    <tr>\n",
       "      <th>3</th>\n",
       "      <td>0</td>\n",
       "      <td>OBS De Klimboom</td>\n",
       "      <td>6666EB</td>\n",
       "      <td>HETEREN</td>\n",
       "      <td>1734</td>\n",
       "      <td>Overbetuwe</td>\n",
       "      <td>Gelderland</td>\n",
       "      <td>Openbaar</td>\n",
       "      <td>12</td>\n",
       "      <td>11</td>\n",
       "      <td>...</td>\n",
       "      <td>0</td>\n",
       "      <td>2</td>\n",
       "      <td>0</td>\n",
       "      <td>3</td>\n",
       "      <td>0</td>\n",
       "      <td>1</td>\n",
       "      <td>4</td>\n",
       "      <td>0</td>\n",
       "      <td>12</td>\n",
       "      <td>1</td>\n",
       "    </tr>\n",
       "    <tr>\n",
       "      <th>4</th>\n",
       "      <td>0</td>\n",
       "      <td>Obs Letterwies</td>\n",
       "      <td>9944AR</td>\n",
       "      <td>NIEUWOLDA</td>\n",
       "      <td>1895</td>\n",
       "      <td>Oldambt</td>\n",
       "      <td>Groningen</td>\n",
       "      <td>Openbaar</td>\n",
       "      <td>16</td>\n",
       "      <td>16</td>\n",
       "      <td>...</td>\n",
       "      <td>0</td>\n",
       "      <td>3</td>\n",
       "      <td>0</td>\n",
       "      <td>2</td>\n",
       "      <td>0</td>\n",
       "      <td>5</td>\n",
       "      <td>0</td>\n",
       "      <td>2</td>\n",
       "      <td>16</td>\n",
       "      <td>0</td>\n",
       "    </tr>\n",
       "  </tbody>\n",
       "</table>\n",
       "<p>5 rows × 24 columns</p>\n",
       "</div>"
      ],
      "text/plain": [
       "   VESTIGINGSNUMMER INSTELLINGSNAAM_VESTIGING POSTCODE_VESTIGING  \\\n",
       "0                 0             De Schanskorf             2715BT   \n",
       "1                 0         BS \"De Maasparel\"             6109AM   \n",
       "2                 0       De Kiezel en de Kei             2971AR   \n",
       "3                 0           OBS De Klimboom             6666EB   \n",
       "4                 0            Obs Letterwies             9944AR   \n",
       "\n",
       "         PLAATSNAAM  GEMEENTENUMMER GEMEENTENAAM     PROVINCIE  \\\n",
       "0        ZOETERMEER             637   Zoetermeer  Zuid-Holland   \n",
       "1       OHE EN LAAK            1641     Maasgouw       Limburg   \n",
       "2  BLESKENSGRAAF CA            1927   Molenwaard  Zuid-Holland   \n",
       "3           HETEREN            1734   Overbetuwe    Gelderland   \n",
       "4         NIEUWOLDA            1895      Oldambt     Groningen   \n",
       "\n",
       "      DENOMINATIE_VESTIGING  LEERJAAR_8  CET_AANTAL       ...        \\\n",
       "0  Gereformeerd vrijgemaakt          11          11       ...         \n",
       "1           Rooms-Katholiek          18          18       ...         \n",
       "2                  Openbaar          24          22       ...         \n",
       "3                  Openbaar          12          11       ...         \n",
       "4                  Openbaar          16          16       ...         \n",
       "\n",
       "   VMBO_BL_KL  VMBO_KL  VMBO_KL_GT  VMBO_GT  VMBO_GT_HAVO  HAVO  HAVO_VWO  \\\n",
       "0           0        1           1        2             0     5         1   \n",
       "1           0        0           0        4             0     7         0   \n",
       "2           3        0           0        4             5     3         2   \n",
       "3           0        2           0        3             0     1         4   \n",
       "4           0        3           0        2             0     5         0   \n",
       "\n",
       "   VWO  TOTAAL_ADVIES  ADVIES_HERZIEN  \n",
       "0    1             11               0  \n",
       "1    6             18               0  \n",
       "2    4             22               0  \n",
       "3    0             12               1  \n",
       "4    2             16               0  \n",
       "\n",
       "[5 rows x 24 columns]"
      ]
     },
     "execution_count": 83,
     "metadata": {},
     "output_type": "execute_result"
    }
   ],
   "source": [
    "allData.head()"
   ]
  },
  {
   "cell_type": "code",
   "execution_count": 84,
   "metadata": {
    "collapsed": false,
    "slideshow": {
     "slide_type": "fragment"
    }
   },
   "outputs": [
    {
     "data": {
      "text/html": [
       "<div>\n",
       "<table border=\"1\" class=\"dataframe\">\n",
       "  <thead>\n",
       "    <tr style=\"text-align: right;\">\n",
       "      <th></th>\n",
       "      <th>Regio's</th>\n",
       "      <th>2013 - 1</th>\n",
       "      <th>2013 - 2</th>\n",
       "      <th>2013 - 3</th>\n",
       "      <th>2014 - 1</th>\n",
       "      <th>2014 - 2</th>\n",
       "      <th>2014 - 3</th>\n",
       "    </tr>\n",
       "  </thead>\n",
       "  <tbody>\n",
       "    <tr>\n",
       "      <th>0</th>\n",
       "      <td>Aa en Hunze</td>\n",
       "      <td>770</td>\n",
       "      <td>180</td>\n",
       "      <td>270</td>\n",
       "      <td>670</td>\n",
       "      <td>145</td>\n",
       "      <td>180</td>\n",
       "    </tr>\n",
       "    <tr>\n",
       "      <th>1</th>\n",
       "      <td>Aalburg</td>\n",
       "      <td>430</td>\n",
       "      <td>80</td>\n",
       "      <td>115</td>\n",
       "      <td>410</td>\n",
       "      <td>95</td>\n",
       "      <td>115</td>\n",
       "    </tr>\n",
       "    <tr>\n",
       "      <th>2</th>\n",
       "      <td>Aalsmeer</td>\n",
       "      <td>1245</td>\n",
       "      <td>255</td>\n",
       "      <td>335</td>\n",
       "      <td>1190</td>\n",
       "      <td>320</td>\n",
       "      <td>395</td>\n",
       "    </tr>\n",
       "    <tr>\n",
       "      <th>3</th>\n",
       "      <td>Aalten</td>\n",
       "      <td>675</td>\n",
       "      <td>150</td>\n",
       "      <td>180</td>\n",
       "      <td>675</td>\n",
       "      <td>160</td>\n",
       "      <td>175</td>\n",
       "    </tr>\n",
       "    <tr>\n",
       "      <th>4</th>\n",
       "      <td>Achtkarspelen</td>\n",
       "      <td>710</td>\n",
       "      <td>230</td>\n",
       "      <td>260</td>\n",
       "      <td>750</td>\n",
       "      <td>250</td>\n",
       "      <td>300</td>\n",
       "    </tr>\n",
       "  </tbody>\n",
       "</table>\n",
       "</div>"
      ],
      "text/plain": [
       "         Regio's  2013 - 1  2013 - 2  2013 - 3  2014 - 1  2014 - 2  2014 - 3\n",
       "0    Aa en Hunze       770       180       270       670       145       180\n",
       "1        Aalburg       430        80       115       410        95       115\n",
       "2       Aalsmeer      1245       255       335      1190       320       395\n",
       "3         Aalten       675       150       180       675       160       175\n",
       "4  Achtkarspelen       710       230       260       750       250       300"
      ]
     },
     "execution_count": 84,
     "metadata": {},
     "output_type": "execute_result"
    }
   ],
   "source": [
    "criminaliteit.head()"
   ]
  },
  {
   "cell_type": "code",
   "execution_count": 85,
   "metadata": {
    "collapsed": false,
    "slideshow": {
     "slide_type": "fragment"
    }
   },
   "outputs": [
    {
     "data": {
      "text/html": [
       "<div>\n",
       "<table border=\"1\" class=\"dataframe\">\n",
       "  <thead>\n",
       "    <tr style=\"text-align: right;\">\n",
       "      <th></th>\n",
       "      <th>Regio's</th>\n",
       "      <th>Perioden</th>\n",
       "      <th>aantal inwoners</th>\n",
       "      <th>% allochtonen</th>\n",
       "      <th>% huishoudens met kinderen</th>\n",
       "      <th>WW-uitkeringen</th>\n",
       "      <th>afstand tot school in km</th>\n",
       "    </tr>\n",
       "  </thead>\n",
       "  <tbody>\n",
       "    <tr>\n",
       "      <th>0</th>\n",
       "      <td>Aa en Hunze</td>\n",
       "      <td>2014</td>\n",
       "      <td>25357</td>\n",
       "      <td>5.8</td>\n",
       "      <td>33.7</td>\n",
       "      <td>41</td>\n",
       "      <td>1.1</td>\n",
       "    </tr>\n",
       "    <tr>\n",
       "      <th>1</th>\n",
       "      <td>Aalburg</td>\n",
       "      <td>2014</td>\n",
       "      <td>12846</td>\n",
       "      <td>4.8</td>\n",
       "      <td>45.4</td>\n",
       "      <td>31</td>\n",
       "      <td>0.7</td>\n",
       "    </tr>\n",
       "    <tr>\n",
       "      <th>2</th>\n",
       "      <td>Aalsmeer</td>\n",
       "      <td>2014</td>\n",
       "      <td>30759</td>\n",
       "      <td>16.7</td>\n",
       "      <td>42.2</td>\n",
       "      <td>34</td>\n",
       "      <td>0.7</td>\n",
       "    </tr>\n",
       "    <tr>\n",
       "      <th>3</th>\n",
       "      <td>Aalten</td>\n",
       "      <td>2014</td>\n",
       "      <td>27013</td>\n",
       "      <td>11.0</td>\n",
       "      <td>37.1</td>\n",
       "      <td>42</td>\n",
       "      <td>0.8</td>\n",
       "    </tr>\n",
       "    <tr>\n",
       "      <th>4</th>\n",
       "      <td>Achtkarspelen</td>\n",
       "      <td>2014</td>\n",
       "      <td>28016</td>\n",
       "      <td>3.6</td>\n",
       "      <td>39.8</td>\n",
       "      <td>58</td>\n",
       "      <td>0.7</td>\n",
       "    </tr>\n",
       "  </tbody>\n",
       "</table>\n",
       "</div>"
      ],
      "text/plain": [
       "         Regio's  Perioden  aantal inwoners  % allochtonen  \\\n",
       "0    Aa en Hunze      2014            25357            5.8   \n",
       "1        Aalburg      2014            12846            4.8   \n",
       "2       Aalsmeer      2014            30759           16.7   \n",
       "3         Aalten      2014            27013           11.0   \n",
       "4  Achtkarspelen      2014            28016            3.6   \n",
       "\n",
       "   % huishoudens met kinderen  WW-uitkeringen  afstand tot school in km  \n",
       "0                        33.7              41                       1.1  \n",
       "1                        45.4              31                       0.7  \n",
       "2                        42.2              34                       0.7  \n",
       "3                        37.1              42                       0.8  \n",
       "4                        39.8              58                       0.7  "
      ]
     },
     "execution_count": 85,
     "metadata": {},
     "output_type": "execute_result"
    }
   ],
   "source": [
    "kerncijfers.head()"
   ]
  },
  {
   "cell_type": "code",
   "execution_count": 86,
   "metadata": {
    "collapsed": false,
    "slideshow": {
     "slide_type": "fragment"
    }
   },
   "outputs": [
    {
     "data": {
      "text/html": [
       "<div>\n",
       "<table border=\"1\" class=\"dataframe\">\n",
       "  <thead>\n",
       "    <tr style=\"text-align: right;\">\n",
       "      <th></th>\n",
       "      <th>Postcodes op 1 januari</th>\n",
       "      <th>aantal inwoners</th>\n",
       "      <th>allochtonen</th>\n",
       "      <th>Westerse allochtonen</th>\n",
       "      <th>Niet-westerse allochtonen</th>\n",
       "      <th>aantal huishoudens</th>\n",
       "      <th>aantal eenpersoonshuishoudens</th>\n",
       "      <th>aantal meerpersoonshuishoudens zonder kinderen</th>\n",
       "      <th>aantal meerpersoonshuishoudens met kinderen</th>\n",
       "      <th>gemiddelde huishoudensgrootte</th>\n",
       "      <th>gemeentecode</th>\n",
       "      <th>Gemeentenaam</th>\n",
       "    </tr>\n",
       "  </thead>\n",
       "  <tbody>\n",
       "    <tr>\n",
       "      <th>0</th>\n",
       "      <td>1011; Amsterdam</td>\n",
       "      <td>9320</td>\n",
       "      <td>3520</td>\n",
       "      <td>2325</td>\n",
       "      <td>1195</td>\n",
       "      <td>6210</td>\n",
       "      <td>4120</td>\n",
       "      <td>1250</td>\n",
       "      <td>845</td>\n",
       "      <td>1.50</td>\n",
       "      <td>363</td>\n",
       "      <td>Amsterdam</td>\n",
       "    </tr>\n",
       "    <tr>\n",
       "      <th>1</th>\n",
       "      <td>1012; Amsterdam</td>\n",
       "      <td>8090</td>\n",
       "      <td>3525</td>\n",
       "      <td>2275</td>\n",
       "      <td>1250</td>\n",
       "      <td>5845</td>\n",
       "      <td>4290</td>\n",
       "      <td>1125</td>\n",
       "      <td>425</td>\n",
       "      <td>1.35</td>\n",
       "      <td>363</td>\n",
       "      <td>Amsterdam</td>\n",
       "    </tr>\n",
       "    <tr>\n",
       "      <th>2</th>\n",
       "      <td>1013; Amsterdam</td>\n",
       "      <td>21570</td>\n",
       "      <td>9390</td>\n",
       "      <td>4290</td>\n",
       "      <td>5095</td>\n",
       "      <td>13220</td>\n",
       "      <td>8265</td>\n",
       "      <td>2500</td>\n",
       "      <td>2460</td>\n",
       "      <td>1.61</td>\n",
       "      <td>363</td>\n",
       "      <td>Amsterdam</td>\n",
       "    </tr>\n",
       "    <tr>\n",
       "      <th>3</th>\n",
       "      <td>1014; Amsterdam</td>\n",
       "      <td>250</td>\n",
       "      <td>145</td>\n",
       "      <td>80</td>\n",
       "      <td>60</td>\n",
       "      <td>160</td>\n",
       "      <td>120</td>\n",
       "      <td>25</td>\n",
       "      <td>10</td>\n",
       "      <td>1.35</td>\n",
       "      <td>363</td>\n",
       "      <td>Amsterdam</td>\n",
       "    </tr>\n",
       "    <tr>\n",
       "      <th>4</th>\n",
       "      <td>1015; Amsterdam</td>\n",
       "      <td>14670</td>\n",
       "      <td>5140</td>\n",
       "      <td>3530</td>\n",
       "      <td>1610</td>\n",
       "      <td>9860</td>\n",
       "      <td>6615</td>\n",
       "      <td>1900</td>\n",
       "      <td>1350</td>\n",
       "      <td>1.49</td>\n",
       "      <td>363</td>\n",
       "      <td>Amsterdam</td>\n",
       "    </tr>\n",
       "  </tbody>\n",
       "</table>\n",
       "</div>"
      ],
      "text/plain": [
       "  Postcodes op 1 januari  aantal inwoners  allochtonen  Westerse allochtonen  \\\n",
       "0        1011; Amsterdam             9320         3520                  2325   \n",
       "1        1012; Amsterdam             8090         3525                  2275   \n",
       "2        1013; Amsterdam            21570         9390                  4290   \n",
       "3        1014; Amsterdam              250          145                    80   \n",
       "4        1015; Amsterdam            14670         5140                  3530   \n",
       "\n",
       "   Niet-westerse allochtonen  aantal huishoudens  \\\n",
       "0                       1195                6210   \n",
       "1                       1250                5845   \n",
       "2                       5095               13220   \n",
       "3                         60                 160   \n",
       "4                       1610                9860   \n",
       "\n",
       "   aantal eenpersoonshuishoudens  \\\n",
       "0                           4120   \n",
       "1                           4290   \n",
       "2                           8265   \n",
       "3                            120   \n",
       "4                           6615   \n",
       "\n",
       "   aantal meerpersoonshuishoudens zonder kinderen  \\\n",
       "0                                            1250   \n",
       "1                                            1125   \n",
       "2                                            2500   \n",
       "3                                              25   \n",
       "4                                            1900   \n",
       "\n",
       "   aantal meerpersoonshuishoudens met kinderen  gemiddelde huishoudensgrootte  \\\n",
       "0                                          845                           1.50   \n",
       "1                                          425                           1.35   \n",
       "2                                         2460                           1.61   \n",
       "3                                           10                           1.35   \n",
       "4                                         1350                           1.49   \n",
       "\n",
       "   gemeentecode Gemeentenaam  \n",
       "0           363    Amsterdam  \n",
       "1           363    Amsterdam  \n",
       "2           363    Amsterdam  \n",
       "3           363    Amsterdam  \n",
       "4           363    Amsterdam  "
      ]
     },
     "execution_count": 86,
     "metadata": {},
     "output_type": "execute_result"
    }
   ],
   "source": [
    "postcode_data.head()"
   ]
  },
  {
   "cell_type": "code",
   "execution_count": 87,
   "metadata": {
    "collapsed": false,
    "slideshow": {
     "slide_type": "slide"
    }
   },
   "outputs": [
    {
     "data": {
      "text/plain": [
       "PROVINCIE\n",
       "Limburg          536.173977\n",
       "Utrecht          535.547113\n",
       "Noord-Brabant    535.154485\n",
       "Zeeland          535.079755\n",
       "Friesland        534.982270\n",
       "Gelderland       534.830869\n",
       "Overijssel       534.791216\n",
       "Groningen        534.702778\n",
       "Drenthe          534.603209\n",
       "Zuid-Holland     534.510120\n",
       "Noord-Holland    534.262500\n",
       "Flevoland        533.773885\n",
       "Name: CET_GEM, dtype: float64"
      ]
     },
     "execution_count": 87,
     "metadata": {},
     "output_type": "execute_result"
    }
   ],
   "source": [
    "provincies = allData.groupby(['PROVINCIE']).mean()['CET_GEM'].sort_values(ascending=False)\n",
    "provincies"
   ]
  },
  {
   "cell_type": "code",
   "execution_count": 88,
   "metadata": {
    "collapsed": false,
    "slideshow": {
     "slide_type": "slide"
    }
   },
   "outputs": [
    {
     "data": {
      "text/plain": [
       "DENOMINATIE_VESTIGING\n",
       "Algemeen bijzonder          536.665471\n",
       "Reformatorisch              536.135256\n",
       "Gereformeerd vrijgemaakt    535.894175\n",
       "Rooms-Katholiek             535.392995\n",
       "Hindoeistisch               535.066667\n",
       "Protestants-Christelijk     535.017190\n",
       "Antroposofisch              534.643750\n",
       "Joods                       534.050000\n",
       "Openbaar                    533.966610\n",
       "Samenwerking Opb., PC       533.600000\n",
       "Samenwerking PC, RK         533.432653\n",
       "Islamitisch                 532.352632\n",
       "Samenwerking Opb., RK       532.200000\n",
       "Evangelisch                 532.200000\n",
       "Interconfessioneel          530.428571\n",
       "Name: CET_GEM, dtype: float64"
      ]
     },
     "execution_count": 88,
     "metadata": {},
     "output_type": "execute_result"
    }
   ],
   "source": [
    "denominaties = allData.groupby(['DENOMINATIE_VESTIGING']).mean()['CET_GEM'].sort_values(ascending=False)\n",
    "denominaties"
   ]
  },
  {
   "cell_type": "code",
   "execution_count": 89,
   "metadata": {
    "collapsed": false,
    "slideshow": {
     "slide_type": "slide"
    }
   },
   "outputs": [
    {
     "data": {
      "text/plain": [
       "GEMEENTENAAM\n",
       "Rozendaal                        541.900000\n",
       "Wassenaar                        540.055556\n",
       "Bussum                           539.950000\n",
       "Oegstgeest                       539.950000\n",
       "Laren                            539.600000\n",
       "Gulpen-Wittem                    539.557143\n",
       "Nuth                             539.100000\n",
       "Voerendaal                       538.950000\n",
       "Bloemendaal                      538.850000\n",
       "Eijsden-Margraten                538.509091\n",
       "Heemstede                        538.414286\n",
       "Weesp                            538.360000\n",
       "Mill en Sint Hubert              538.133333\n",
       "Blaricum                         538.125000\n",
       "Ouder-Amstel                     538.080000\n",
       "Veldhoven                        538.050000\n",
       "Nuenen, Gerwen en Nederwetten    538.042857\n",
       "Noordwijk                        537.930000\n",
       "Halderberge                      537.800000\n",
       "Staphorst                        537.800000\n",
       "Huizen                           537.772727\n",
       "Bergen (L.)                      537.728571\n",
       "Amstelveen                       537.725000\n",
       "Scherpenzeel                     537.700000\n",
       "Tynaarlo                         537.650000\n",
       "Leudal                           537.635714\n",
       "Naarden                          537.583333\n",
       "Weststellingwerf                 537.580000\n",
       "Uitgeest                         537.550000\n",
       "Druten                           537.542857\n",
       "                                    ...    \n",
       "Meppel                           532.800000\n",
       "Amsterdam                        532.790821\n",
       "Bellingwedde                     532.787500\n",
       "De Wolden                        532.764286\n",
       "Delfzijl                         532.750000\n",
       "Vlaardingen                      532.705263\n",
       "Lingewaal                        532.622222\n",
       "Velsen                           532.610000\n",
       "Heerde                           532.558333\n",
       "Hellevoetsluis                   532.500000\n",
       "Oldebroek                        532.433333\n",
       "Zoeterwoude                      532.425000\n",
       "Rotterdam                        532.400621\n",
       "Ouderkerk                        532.340000\n",
       "Culemborg                        532.230769\n",
       "Appingedam                       532.175000\n",
       "Wormerland                       532.066667\n",
       "Schiedam                         532.041176\n",
       "Hoorn                            531.740000\n",
       "Kaag en Braassem                 531.660000\n",
       "Maassluis                        531.500000\n",
       "Cromstrijen                      531.500000\n",
       "Zeevang                          531.350000\n",
       "Smallingerland                   531.200000\n",
       "Medemblik                        530.700000\n",
       "Graft-De Rijp                    530.400000\n",
       "Enkhuizen                        530.333333\n",
       "Zaanstad                         530.200000\n",
       "Beverwijk                        529.425000\n",
       "Purmerend                        528.666667\n",
       "Name: CET_GEM, dtype: float64"
      ]
     },
     "execution_count": 89,
     "metadata": {},
     "output_type": "execute_result"
    }
   ],
   "source": [
    "gemeentenamen = allData.groupby(['GEMEENTENAAM']).mean()['CET_GEM'].sort_values(ascending=False)\n",
    "gemeentenamen"
   ]
  },
  {
   "cell_type": "markdown",
   "metadata": {
    "slideshow": {
     "slide_type": "slide"
    }
   },
   "source": [
    "<br><center><h5> Evaluatie </h5></center><br>"
   ]
  },
  {
   "cell_type": "code",
   "execution_count": 90,
   "metadata": {
    "collapsed": true,
    "slideshow": {
     "slide_type": "skip"
    }
   },
   "outputs": [],
   "source": [
    "def normalize_advies(x):\n",
    "    return (x['ADVIES_HERZIEN']/x['LEERJAAR_8']) * 100\n",
    "\n",
    "group_by_gemeente = allData.groupby(['GEMEENTENAAM']).sum().apply(lambda x: normalize_advies(x),\\\n",
    "                                                                  1).sort_values(ascending=False)\n",
    "gemeente_herzien = pd.concat([gemeentenamen, group_by_gemeente], axis=1)\n",
    "gemeente_herzien.columns = ['CET_GEM', 'ADVIES_HERZIEN']"
   ]
  },
  {
   "cell_type": "code",
   "execution_count": 91,
   "metadata": {
    "collapsed": true,
    "slideshow": {
     "slide_type": "skip"
    }
   },
   "outputs": [],
   "source": [
    "def merge(x):\n",
    "    return x[1:].sum()\n",
    "\n",
    "criminaliteit['total'] = criminaliteit.apply(lambda x: merge(x), 1)\n",
    "data = pd.concat([criminaliteit[\"Regio's\"], criminaliteit['total'], kerncijfers['aantal inwoners']\\\n",
    "                  , kerncijfers['% allochtonen'], kerncijfers['WW-uitkeringen'],\\\n",
    "                 kerncijfers['afstand tot school in km'], kerncijfers['% huishoudens met kinderen']], 1).set_index(\"Regio's\")\n",
    "data['CET_GEM'] = gemeentenamen\n",
    "data['normalized crime'] = data.apply(lambda x: x['total'] / x['aantal inwoners'], 1)"
   ]
  },
  {
   "cell_type": "markdown",
   "metadata": {
    "slideshow": {
     "slide_type": "slide"
    }
   },
   "source": [
    "#### WW-uitkeringen en Cito scores"
   ]
  },
  {
   "cell_type": "code",
   "execution_count": 92,
   "metadata": {
    "collapsed": false,
    "slideshow": {
     "slide_type": "fragment"
    }
   },
   "outputs": [
    {
     "data": {
      "text/html": [
       "<div>\n",
       "<table border=\"1\" class=\"dataframe\">\n",
       "  <thead>\n",
       "    <tr style=\"text-align: right;\">\n",
       "      <th></th>\n",
       "      <th>CET_GEM</th>\n",
       "      <th>WW-uitkeringen</th>\n",
       "    </tr>\n",
       "  </thead>\n",
       "  <tbody>\n",
       "    <tr>\n",
       "      <th>CET_GEM</th>\n",
       "      <td>1.000000</td>\n",
       "      <td>-0.122227</td>\n",
       "    </tr>\n",
       "    <tr>\n",
       "      <th>WW-uitkeringen</th>\n",
       "      <td>-0.122227</td>\n",
       "      <td>1.000000</td>\n",
       "    </tr>\n",
       "  </tbody>\n",
       "</table>\n",
       "</div>"
      ],
      "text/plain": [
       "                 CET_GEM  WW-uitkeringen\n",
       "CET_GEM         1.000000       -0.122227\n",
       "WW-uitkeringen -0.122227        1.000000"
      ]
     },
     "execution_count": 92,
     "metadata": {},
     "output_type": "execute_result"
    }
   ],
   "source": [
    "data.dropna()[['CET_GEM', 'WW-uitkeringen']].corr()"
   ]
  },
  {
   "cell_type": "markdown",
   "metadata": {
    "slideshow": {
     "slide_type": "slide"
    }
   },
   "source": [
    "#### Percentage allochtonen en Cito scores"
   ]
  },
  {
   "cell_type": "code",
   "execution_count": 93,
   "metadata": {
    "collapsed": false,
    "slideshow": {
     "slide_type": "fragment"
    }
   },
   "outputs": [
    {
     "data": {
      "text/html": [
       "<div>\n",
       "<table border=\"1\" class=\"dataframe\">\n",
       "  <thead>\n",
       "    <tr style=\"text-align: right;\">\n",
       "      <th></th>\n",
       "      <th>CET_GEM</th>\n",
       "      <th>% allochtonen</th>\n",
       "    </tr>\n",
       "  </thead>\n",
       "  <tbody>\n",
       "    <tr>\n",
       "      <th>CET_GEM</th>\n",
       "      <td>1.000000</td>\n",
       "      <td>-0.027101</td>\n",
       "    </tr>\n",
       "    <tr>\n",
       "      <th>% allochtonen</th>\n",
       "      <td>-0.027101</td>\n",
       "      <td>1.000000</td>\n",
       "    </tr>\n",
       "  </tbody>\n",
       "</table>\n",
       "</div>"
      ],
      "text/plain": [
       "                CET_GEM  % allochtonen\n",
       "CET_GEM        1.000000      -0.027101\n",
       "% allochtonen -0.027101       1.000000"
      ]
     },
     "execution_count": 93,
     "metadata": {},
     "output_type": "execute_result"
    }
   ],
   "source": [
    "data.dropna()[['CET_GEM', '% allochtonen']].corr()"
   ]
  },
  {
   "cell_type": "code",
   "execution_count": 94,
   "metadata": {
    "collapsed": false,
    "slideshow": {
     "slide_type": "skip"
    }
   },
   "outputs": [],
   "source": [
    "allData['4cijfer'] = allData.apply(lambda x: x['POSTCODE_VESTIGING'][:4], 1)\n",
    "postcodes = allData.groupby('4cijfer').mean()['CET_GEM']\n",
    "\n",
    "postcode_data['Postcodes op 1 januari'] = postcode_data['Postcodes op 1 januari'].str[:4]\n",
    "postcode_data.set_index('Postcodes op 1 januari', inplace=True)\n",
    "postcode_data = pd.concat([postcode_data, postcodes], 1).dropna()\n",
    "\n",
    "for column in postcode_data.columns[1:-4]:\n",
    "    postcode_data[column + ' normalized'] = postcode_data.apply(lambda x: x[column] / float(x['aantal inwoners']), 1)"
   ]
  },
  {
   "cell_type": "markdown",
   "metadata": {
    "slideshow": {
     "slide_type": "slide"
    }
   },
   "source": [
    "#### Niet-westerse allochtonen en Cito score"
   ]
  },
  {
   "cell_type": "code",
   "execution_count": 95,
   "metadata": {
    "collapsed": false,
    "slideshow": {
     "slide_type": "fragment"
    }
   },
   "outputs": [
    {
     "data": {
      "text/html": [
       "<div>\n",
       "<table border=\"1\" class=\"dataframe\">\n",
       "  <thead>\n",
       "    <tr style=\"text-align: right;\">\n",
       "      <th></th>\n",
       "      <th>Niet-westerse allochtonen normalized</th>\n",
       "      <th>CET_GEM</th>\n",
       "    </tr>\n",
       "  </thead>\n",
       "  <tbody>\n",
       "    <tr>\n",
       "      <th>Niet-westerse allochtonen normalized</th>\n",
       "      <td>1.000000</td>\n",
       "      <td>-0.317566</td>\n",
       "    </tr>\n",
       "    <tr>\n",
       "      <th>CET_GEM</th>\n",
       "      <td>-0.317566</td>\n",
       "      <td>1.000000</td>\n",
       "    </tr>\n",
       "  </tbody>\n",
       "</table>\n",
       "</div>"
      ],
      "text/plain": [
       "                                      Niet-westerse allochtonen normalized  \\\n",
       "Niet-westerse allochtonen normalized                              1.000000   \n",
       "CET_GEM                                                          -0.317566   \n",
       "\n",
       "                                       CET_GEM  \n",
       "Niet-westerse allochtonen normalized -0.317566  \n",
       "CET_GEM                               1.000000  "
      ]
     },
     "execution_count": 95,
     "metadata": {},
     "output_type": "execute_result"
    }
   ],
   "source": [
    "\n",
    "postcode_data[['Niet-westerse allochtonen normalized', 'CET_GEM']].corr()"
   ]
  },
  {
   "cell_type": "markdown",
   "metadata": {
    "slideshow": {
     "slide_type": "slide"
    }
   },
   "source": [
    "#### R Westerse allochtonen en Cito score"
   ]
  },
  {
   "cell_type": "code",
   "execution_count": 96,
   "metadata": {
    "collapsed": false,
    "slideshow": {
     "slide_type": "fragment"
    }
   },
   "outputs": [
    {
     "data": {
      "text/html": [
       "<div>\n",
       "<table border=\"1\" class=\"dataframe\">\n",
       "  <thead>\n",
       "    <tr style=\"text-align: right;\">\n",
       "      <th></th>\n",
       "      <th>Westerse allochtonen normalized</th>\n",
       "      <th>CET_GEM</th>\n",
       "    </tr>\n",
       "  </thead>\n",
       "  <tbody>\n",
       "    <tr>\n",
       "      <th>Westerse allochtonen normalized</th>\n",
       "      <td>1.000000</td>\n",
       "      <td>0.012864</td>\n",
       "    </tr>\n",
       "    <tr>\n",
       "      <th>CET_GEM</th>\n",
       "      <td>0.012864</td>\n",
       "      <td>1.000000</td>\n",
       "    </tr>\n",
       "  </tbody>\n",
       "</table>\n",
       "</div>"
      ],
      "text/plain": [
       "                                 Westerse allochtonen normalized   CET_GEM\n",
       "Westerse allochtonen normalized                         1.000000  0.012864\n",
       "CET_GEM                                                 0.012864  1.000000"
      ]
     },
     "execution_count": 96,
     "metadata": {},
     "output_type": "execute_result"
    }
   ],
   "source": [
    "postcode_data[['Westerse allochtonen normalized', 'CET_GEM']].corr()"
   ]
  },
  {
   "cell_type": "markdown",
   "metadata": {
    "slideshow": {
     "slide_type": "slide"
    }
   },
   "source": [
    "#### R afstand tot school in km en Cito score"
   ]
  },
  {
   "cell_type": "code",
   "execution_count": 97,
   "metadata": {
    "collapsed": false,
    "slideshow": {
     "slide_type": "fragment"
    }
   },
   "outputs": [
    {
     "data": {
      "text/html": [
       "<div>\n",
       "<table border=\"1\" class=\"dataframe\">\n",
       "  <thead>\n",
       "    <tr style=\"text-align: right;\">\n",
       "      <th></th>\n",
       "      <th>afstand tot school in km</th>\n",
       "      <th>CET_GEM</th>\n",
       "    </tr>\n",
       "  </thead>\n",
       "  <tbody>\n",
       "    <tr>\n",
       "      <th>afstand tot school in km</th>\n",
       "      <td>1.00000</td>\n",
       "      <td>-0.03712</td>\n",
       "    </tr>\n",
       "    <tr>\n",
       "      <th>CET_GEM</th>\n",
       "      <td>-0.03712</td>\n",
       "      <td>1.00000</td>\n",
       "    </tr>\n",
       "  </tbody>\n",
       "</table>\n",
       "</div>"
      ],
      "text/plain": [
       "                          afstand tot school in km  CET_GEM\n",
       "afstand tot school in km                   1.00000 -0.03712\n",
       "CET_GEM                                   -0.03712  1.00000"
      ]
     },
     "execution_count": 97,
     "metadata": {},
     "output_type": "execute_result"
    }
   ],
   "source": [
    "data.dropna()[['afstand tot school in km', 'CET_GEM']].corr()"
   ]
  },
  {
   "cell_type": "code",
   "execution_count": 98,
   "metadata": {
    "collapsed": false,
    "slideshow": {
     "slide_type": "slide"
    }
   },
   "outputs": [
    {
     "data": {
      "text/plain": [
       "<matplotlib.axes._subplots.AxesSubplot at 0x10d8d8e10>"
      ]
     },
     "execution_count": 98,
     "metadata": {},
     "output_type": "execute_result"
    },
    {
     "data": {
      "image/png": "[encoded data removed]",
      "text/plain": [
       "<matplotlib.figure.Figure at 0x10a84ae90>"
      ]
     },
     "metadata": {},
     "output_type": "display_data"
    }
   ],
   "source": [
    "provincies.plot(kind='bar', ylim=[500,550], rot=85, title='Gemiddelde Cito score per provincie')\n"
   ]
  },
  {
   "cell_type": "code",
   "execution_count": 99,
   "metadata": {
    "collapsed": false,
    "slideshow": {
     "slide_type": "fragment"
    }
   },
   "outputs": [
    {
     "data": {
      "text/plain": [
       "<matplotlib.axes._subplots.AxesSubplot at 0x10e4bb750>"
      ]
     },
     "execution_count": 99,
     "metadata": {},
     "output_type": "execute_result"
    },
    {
     "data": {
      "image/png": "[encoded data removed]",
      "text/plain": [
       "<matplotlib.figure.Figure at 0x10ab52910>"
      ]
     },
     "metadata": {},
     "output_type": "display_data"
    }
   ],
   "source": [
    "denominaties.plot(kind='bar', ylim = [500, 550], rot = 85, title='Gemiddelde Cito score per denominatie')"
   ]
  },
  {
   "cell_type": "code",
   "execution_count": 100,
   "metadata": {
    "collapsed": false,
    "slideshow": {
     "slide_type": "fragment"
    }
   },
   "outputs": [
    {
     "data": {
      "text/plain": [
       "<matplotlib.axes._subplots.AxesSubplot at 0x10e652dd0>"
      ]
     },
     "execution_count": 100,
     "metadata": {},
     "output_type": "execute_result"
    },
    {
     "data": {
      "image/png": "[encoded data removed]",
      "text/plain": [
       "<matplotlib.figure.Figure at 0x10e4ed550>"
      ]
     },
     "metadata": {},
     "output_type": "display_data"
    }
   ],
   "source": [
    "data.plot(kind='scatter', y='CET_GEM', x='WW-uitkeringen', title='Spreiding WW-uitkeringen tegenover Cito scores binnen een postcode gebied')"
   ]
  },
  {
   "cell_type": "code",
   "execution_count": 101,
   "metadata": {
    "collapsed": false,
    "slideshow": {
     "slide_type": "fragment"
    }
   },
   "outputs": [
    {
     "data": {
      "text/plain": [
       "<matplotlib.axes._subplots.AxesSubplot at 0x10de27290>"
      ]
     },
     "execution_count": 101,
     "metadata": {},
     "output_type": "execute_result"
    },
    {
     "data": {
      "image/png": "[encoded data removed]",
      "text/plain": [
       "<matplotlib.figure.Figure at 0x10de370d0>"
      ]
     },
     "metadata": {},
     "output_type": "display_data"
    }
   ],
   "source": [
    "data.plot(kind='scatter', y='CET_GEM', x='% allochtonen', title='Spreiding % allochtonen tegenover Cito score per postcode gebied')"
   ]
  },
  {
   "cell_type": "code",
   "execution_count": 102,
   "metadata": {
    "collapsed": false,
    "slideshow": {
     "slide_type": "fragment"
    }
   },
   "outputs": [
    {
     "data": {
      "text/plain": [
       "<matplotlib.axes._subplots.AxesSubplot at 0x10de42610>"
      ]
     },
     "execution_count": 102,
     "metadata": {},
     "output_type": "execute_result"
    },
    {
     "data": {
      "image/png": "[encoded data removed]",
      "text/plain": [
       "<matplotlib.figure.Figure at 0x10c59f450>"
      ]
     },
     "metadata": {},
     "output_type": "display_data"
    }
   ],
   "source": [
    "postcode_data.plot(kind='scatter', x='Niet-westerse allochtonen normalized', y='CET_GEM', title='Spreiding aantal niet-westerse allochtonen tegenover Cito score per postcode gebied')"
   ]
  },
  {
   "cell_type": "code",
   "execution_count": 103,
   "metadata": {
    "collapsed": false,
    "slideshow": {
     "slide_type": "fragment"
    }
   },
   "outputs": [
    {
     "data": {
      "text/plain": [
       "<matplotlib.axes._subplots.AxesSubplot at 0x10e6ddd10>"
      ]
     },
     "execution_count": 103,
     "metadata": {},
     "output_type": "execute_result"
    },
    {
     "data": {
      "image/png": "[encoded data removed]",
      "text/plain": [
       "<matplotlib.figure.Figure at 0x10cf5fcd0>"
      ]
     },
     "metadata": {},
     "output_type": "display_data"
    }
   ],
   "source": [
    "postcode_data.plot(kind='scatter', x='Westerse allochtonen normalized', y='CET_GEM', title='Spreiding aantal westerse allochtonen tegenover Cito score per postcode gebied')"
   ]
  },
  {
   "cell_type": "code",
   "execution_count": 104,
   "metadata": {
    "collapsed": false,
    "slideshow": {
     "slide_type": "fragment"
    }
   },
   "outputs": [
    {
     "data": {
      "text/plain": [
       "<matplotlib.axes._subplots.AxesSubplot at 0x10de42390>"
      ]
     },
     "execution_count": 104,
     "metadata": {},
     "output_type": "execute_result"
    },
    {
     "data": {
      "image/png": "[encoded data removed]",
      "text/plain": [
       "<matplotlib.figure.Figure at 0x10ea7ef90>"
      ]
     },
     "metadata": {},
     "output_type": "display_data"
    }
   ],
   "source": [
    "data.plot(kind='scatter', x='afstand tot school in km', y='CET_GEM', title='Spreiding gemiddelde afstand naar een school tegenover Cito score per postcode gebied')"
   ]
  },
  {
   "cell_type": "markdown",
   "metadata": {
    "slideshow": {
     "slide_type": "slide"
    }
   },
   "source": [
    "<br><center><h5> Conclusie </h5></center><br>\n",
    "\n",
    "- Percentage allochtonen binnen een postcode gebied heeft geen invloed op de Cito scores binnen dat gebied\n",
    "    - Maar: Het percentage niet-westerse allochtonen binnen een postcode gebied heeft een zwakke correlatie met de Cito scores binnen dat gebied\n",
    "\n",
    "- Het aantal WW-uitkeringen binnen een postcode gebied heeft geen invloed op de Cito scores binnen dat gebied\n",
    "\n",
    "- Woonafstand heeft geen invloed op de Cito scores\n",
    "\n"
   ]
  },
  {
   "cell_type": "markdown",
   "metadata": {
    "slideshow": {
     "slide_type": "skip"
    }
   },
   "source": [
    "\n",
    "Lorem ipsum dolor sit amet, consectetuer adipiscing elit. Aenean commodo ligula eget dolor. Aenean massa. Cum sociis natoque penatibus et magnis dis parturient montes, nascetur ridiculus mus. Donec quam felis, ultricies nec, pellentesque eu, pretium quis, sem. Nulla consequat massa quis enim. Donec pede justo, fringilla vel, aliquet nec, vulputate eget, arcu. In enim justo, rhoncus ut, imperdiet a, venenatis vitae, justo. Nullam dictum felis eu pede mollis pretium. Integer tincidunt. Cras dapibus. Vivamus elementum semper nisi. Aenean vulputate eleifend tellus. Aenean leo ligula, porttitor eu, consequat vitae, eleifend ac, enim. Aliquam lorem ante, dapibus in, viverra quis, feugiat a, tellus. Phasellus viverra nulla ut metus varius laoreet. Quisque rutrum. Aenean imperdiet. Etiam ultricies nisi vel augue. Curabitur ullamcorper ultricies nisi. Nam eget dui. Etiam rhoncus. Maecenas tempus, tellus eget condimentum rhoncus, sem quam semper libero, sit amet adipiscing sem neque sed ipsum. Nam quam nunc, blandit vel, luctus pulvinar, hendrerit id, lorem. Maecenas nec odio et ante tincidunt tempus. Donec vitae sapien ut libero venenatis faucibus. Nullam quis ante. Etiam sit amet orci eget eros faucibus tincidunt. Duis leo. Sed fringilla mauris sit amet nibh. Donec sodales sagittis magna. Sed consequat, leo eget bibendum sodales, augue velit cursus nunc,"
   ]
  },
  {
   "cell_type": "markdown",
   "metadata": {
    "slideshow": {
     "slide_type": "skip"
    }
   },
   "source": [
    "<br><center><h5> Einde </h5></center><br>"
   ]
  },
  {
   "cell_type": "code",
   "execution_count": null,
   "metadata": {
    "collapsed": true
   },
   "outputs": [],
   "source": []
  }
 ],
 "metadata": {
  "celltoolbar": "Slideshow",
  "kernelspec": {
   "display_name": "Python 2",
   "language": "python",
   "name": "python2"
  },
  "language_info": {
   "codemirror_mode": {
    "name": "ipython",
    "version": 2
   },
   "file_extension": ".py",
   "mimetype": "text/x-python",
   "name": "python",
   "nbconvert_exporter": "python",
   "pygments_lexer": "ipython2",
   "version": "2.7.11"
  }
 },
 "nbformat": 4,
 "nbformat_minor": 0
}
