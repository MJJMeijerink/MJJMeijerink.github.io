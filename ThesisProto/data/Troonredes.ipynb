{
 "cells": [
  {
   "cell_type": "code",
   "execution_count": 28,
   "metadata": {
    "collapsed": false
   },
   "outputs": [],
   "source": [
    "import nltk\n",
    "from nltk import tokenize\n",
    "from nltk.collocations import *\n",
    "from bs4 import BeautifulSoup\n",
    "from collections import Counter\n",
    "import os  \n",
    "from elasticsearch import Elasticsearch\n",
    "\n",
    "\n",
    "#tokenizer = nltk.RegexpTokenizer(r'\\w+')\n",
    "tokenizer = nltk.WhitespaceTokenizer()\n",
    "\n",
    "allData = {}\n",
    "\n",
    "for fn in os.listdir('troonredes'):\n",
    "    with open('troonredes/' + fn) as troonrede:\n",
    "        soup = BeautifulSoup(troonrede, 'lxml')\n",
    "        text = soup.find(\"div\", {\"id\": \"post-content\"}).text\n",
    "        html = unicode(''.join([str(p) for p in soup.find(\"div\", {\"id\": \"post-content\"}).find_all('p')]), errors='ignore')\n",
    "        headOfState = soup.find(\"a\", {\"rel\": \"category tag\"}).text\n",
    "        title = soup.title.text.strip()[:-16]\n",
    "        year = int(soup.find(\"h1\", {\"class\": \"post-title\"}).text[-4:])\n",
    "        sentences = [tokenizer.tokenize(sent) for sent in nltk.sent_tokenize(text)]\n",
    "        if headOfState not in allData.keys():\n",
    "            allData[headOfState] = {}\n",
    "        documentData = {}\n",
    "        documentData['full text'] = text\n",
    "        documentData['sentences'] = sentences\n",
    "        documentData['html'] = html\n",
    "        documentData['year'] = year\n",
    "        allData[headOfState][title] = documentData"
   ]
  },
  {
   "cell_type": "code",
   "execution_count": 29,
   "metadata": {
    "collapsed": false
   },
   "outputs": [
    {
     "data": {
      "text/html": [
       "<div>\n",
       "<table border=\"1\" class=\"dataframe\">\n",
       "  <thead>\n",
       "    <tr style=\"text-align: right;\">\n",
       "      <th></th>\n",
       "      <th>full text</th>\n",
       "      <th>html</th>\n",
       "      <th>year</th>\n",
       "      <th>sentences</th>\n",
       "      <th>title</th>\n",
       "      <th>head of state</th>\n",
       "    </tr>\n",
       "  </thead>\n",
       "  <tbody>\n",
       "    <tr>\n",
       "      <th>0</th>\n",
       "      <td>\\nEdel Mogende Heeren!\\nIn den loop van dit ja...</td>\n",
       "      <td>&lt;p&gt;Edel Mogende Heeren!&lt;/p&gt;&lt;p&gt;In den loop van ...</td>\n",
       "      <td>1818</td>\n",
       "      <td>[[Edel, Mogende, Heeren!], [In, den, loop, van...</td>\n",
       "      <td>Troonrede van 19 oktober 1818</td>\n",
       "      <td>Willem I</td>\n",
       "    </tr>\n",
       "    <tr>\n",
       "      <th>1</th>\n",
       "      <td>\\nEdel Mogende Heeren!\\nDe Koning heeft ons, d...</td>\n",
       "      <td>&lt;p&gt;Edel Mogende Heeren!&lt;/p&gt;&lt;p&gt;De Koning heeft ...</td>\n",
       "      <td>1819</td>\n",
       "      <td>[[Edel, Mogende, Heeren!], [De, Koning, heeft,...</td>\n",
       "      <td>Openingsrede van 18 oktober 1819</td>\n",
       "      <td>Willem I</td>\n",
       "    </tr>\n",
       "    <tr>\n",
       "      <th>2</th>\n",
       "      <td>\\nEdel Mogende Heeren!\\nSedert de laatste reiz...</td>\n",
       "      <td>&lt;p&gt;Edel Mogende Heeren!&lt;/p&gt;&lt;p&gt;Sedert de laatst...</td>\n",
       "      <td>1820</td>\n",
       "      <td>[[Edel, Mogende, Heeren!], [Sedert, de, laatst...</td>\n",
       "      <td>Troonrede van 16 oktober 1820</td>\n",
       "      <td>Willem I</td>\n",
       "    </tr>\n",
       "    <tr>\n",
       "      <th>3</th>\n",
       "      <td>\\nEdel Mogende Heeren!\\nHet strekt mij tot een...</td>\n",
       "      <td>&lt;p&gt;Edel Mogende Heeren!&lt;/p&gt;&lt;p&gt;Het strekt mij t...</td>\n",
       "      <td>1821</td>\n",
       "      <td>[[Edel, Mogende, Heeren!], [Het, strekt, mij, ...</td>\n",
       "      <td>Troonrede van 15 oktober 1821</td>\n",
       "      <td>Willem I</td>\n",
       "    </tr>\n",
       "    <tr>\n",
       "      <th>4</th>\n",
       "      <td>\\nEdel Mogende Heeren!\\nBij het openen uwer ve...</td>\n",
       "      <td>&lt;p&gt;Edel Mogende Heeren!&lt;/p&gt;&lt;p&gt;Bij het openen u...</td>\n",
       "      <td>1822</td>\n",
       "      <td>[[Edel, Mogende, Heeren!], [Bij, het, openen, ...</td>\n",
       "      <td>Troonrede van 21 oktober 1822</td>\n",
       "      <td>Willem I</td>\n",
       "    </tr>\n",
       "  </tbody>\n",
       "</table>\n",
       "</div>"
      ],
      "text/plain": [
       "                                           full text  \\\n",
       "0  \\nEdel Mogende Heeren!\\nIn den loop van dit ja...   \n",
       "1  \\nEdel Mogende Heeren!\\nDe Koning heeft ons, d...   \n",
       "2  \\nEdel Mogende Heeren!\\nSedert de laatste reiz...   \n",
       "3  \\nEdel Mogende Heeren!\\nHet strekt mij tot een...   \n",
       "4  \\nEdel Mogende Heeren!\\nBij het openen uwer ve...   \n",
       "\n",
       "                                                html  year  \\\n",
       "0  <p>Edel Mogende Heeren!</p><p>In den loop van ...  1818   \n",
       "1  <p>Edel Mogende Heeren!</p><p>De Koning heeft ...  1819   \n",
       "2  <p>Edel Mogende Heeren!</p><p>Sedert de laatst...  1820   \n",
       "3  <p>Edel Mogende Heeren!</p><p>Het strekt mij t...  1821   \n",
       "4  <p>Edel Mogende Heeren!</p><p>Bij het openen u...  1822   \n",
       "\n",
       "                                           sentences  \\\n",
       "0  [[Edel, Mogende, Heeren!], [In, den, loop, van...   \n",
       "1  [[Edel, Mogende, Heeren!], [De, Koning, heeft,...   \n",
       "2  [[Edel, Mogende, Heeren!], [Sedert, de, laatst...   \n",
       "3  [[Edel, Mogende, Heeren!], [Het, strekt, mij, ...   \n",
       "4  [[Edel, Mogende, Heeren!], [Bij, het, openen, ...   \n",
       "\n",
       "                              title head of state  \n",
       "0     Troonrede van 19 oktober 1818      Willem I  \n",
       "1  Openingsrede van 18 oktober 1819      Willem I  \n",
       "2     Troonrede van 16 oktober 1820      Willem I  \n",
       "3     Troonrede van 15 oktober 1821      Willem I  \n",
       "4     Troonrede van 21 oktober 1822      Willem I  "
      ]
     },
     "execution_count": 29,
     "metadata": {},
     "output_type": "execute_result"
    }
   ],
   "source": [
    "import pandas as pd\n",
    "\n",
    "dataList = []\n",
    "for staatshoofd, troonrede in allData.iteritems():\n",
    "    for key, value in troonrede.iteritems():\n",
    "        l = value.values()\n",
    "        l.append(key)\n",
    "        l.append(staatshoofd)\n",
    "        dataList.append(l)\n",
    "\n",
    "df = pd.DataFrame(dataList)\n",
    "df.columns = ['full text', 'html', 'year', 'sentences', 'title', 'head of state']\n",
    "df = df.sort_values('year').reset_index(drop=True)\n",
    "\n",
    "es = Elasticsearch()\n",
    "\n",
    "df.head()"
   ]
  },
  {
   "cell_type": "code",
   "execution_count": 30,
   "metadata": {
    "collapsed": false
   },
   "outputs": [],
   "source": [
    "dfIter = list(df[['full text', 'head of state', 'year', 'sentences', 'title','html']].iterrows())\n",
    "for row in dfIter:\n",
    "    ID = row[0] + 1\n",
    "    es.index(index=\"troonredes\", doc_type=\"troonrede\", id=ID, \\\n",
    "             body={\"speaker\" : row[1]['head of state'], \"year\" : row[1]['year'],\n",
    "                   \"text\" : row[1]['full text'], \"sentences\" : row[1]['sentences'],\n",
    "                   \"title\" : row[1]['title'], \"html\" : row[1]['html']})"
   ]
  },
  {
   "cell_type": "code",
   "execution_count": null,
   "metadata": {
    "collapsed": true
   },
   "outputs": [],
   "source": []
  }
 ],
 "metadata": {
  "anaconda-cloud": {},
  "kernelspec": {
   "display_name": "Python [Root]",
   "language": "python",
   "name": "Python [Root]"
  },
  "language_info": {
   "codemirror_mode": {
    "name": "ipython",
    "version": 2
   },
   "file_extension": ".py",
   "mimetype": "text/x-python",
   "name": "python",
   "nbconvert_exporter": "python",
   "pygments_lexer": "ipython2",
   "version": "2.7.11"
  }
 },
 "nbformat": 4,
 "nbformat_minor": 0
}
