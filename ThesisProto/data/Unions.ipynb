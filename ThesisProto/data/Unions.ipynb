{
 "cells": [
  {
   "cell_type": "code",
   "execution_count": 1,
   "metadata": {
    "collapsed": false
   },
   "outputs": [],
   "source": [
    "import pattern\n",
    "from pattern.web import URL, DOM\n",
    "\n",
    "\n",
    "url = URL('https://en.wikisource.org/wiki/Portal:State_of_the_Union_Speeches_by_United_States_Presidents')\n",
    "html = url.download()\n",
    "dom = DOM(html)\n",
    "\n",
    "urls = []\n",
    "for el in dom.by_id(\"mw-content-text\").by_tag('ul')[5:-2]:\n",
    "    for a in el.by_tag('a'):\n",
    "        if 'title' in a.attributes:\n",
    "            if 'Address' in a.content:\n",
    "                urls.append('https://en.wikisource.org' + a.href)"
   ]
  },
  {
   "cell_type": "code",
   "execution_count": 2,
   "metadata": {
    "collapsed": true
   },
   "outputs": [],
   "source": [
    "from HTMLParser import HTMLParser\n",
    "\n",
    "class MLStripper(HTMLParser):\n",
    "    def __init__(self):\n",
    "        self.reset()\n",
    "        self.fed = []\n",
    "    def handle_data(self, d):\n",
    "        self.fed.append(d)\n",
    "    def get_data(self):\n",
    "        return ''.join(self.fed)\n",
    "def strip_tags(html):\n",
    "    s = MLStripper()\n",
    "    s.feed(html)\n",
    "    return s.get_data()"
   ]
  },
  {
   "cell_type": "code",
   "execution_count": 3,
   "metadata": {
    "collapsed": false
   },
   "outputs": [
    {
     "name": "stdout",
     "output_type": "stream",
     "text": [
      "[[u'I', u'embrace', u'with', u'great', u'satisfaction', u'the', u'opportunity,', u'which', u'now', u'presents', u'itself,', u'of', u'congratulating', u'you', u'on', u'the', u'present', u'favourable', u'prospects', u'of', u'our', u'public', u'affairs.'], [u'The', u'recent', u'accession', u'of', u'the', u'important', u'state', u'of', u'north', u'Carolina', u'to', u'the', u'Constitution', u'of', u'the', u'United', u'States', u'(of', u'which', u'official', u'information', u'has', u'been', u'received)\\u2014', u'the', u'rising', u'credit', u'and', u'respectability', u'of', u'our', u'Country', u'\\u2014', u'the', u'general', u'and', u'increasing', u'good', u'will', u'towards', u'the', u'Government', u'of', u'the', u'Union', u'\\u2014', u'and', u'the', u'concord,', u'peace', u'and', u'plenty,', u'with', u'which', u'we', u'are', u'blessed,', u'are', u'circumstances,', u'auspicious', u'in', u'an', u'eminent', u'degree', u'to', u'our', u'national', u'prosperity.'], [u'In', u'resuming', u'your', u'consultations', u'for', u'the', u'general', u'good,', u'you', u'cannot', u'but', u'derive', u'encouragement', u'from', u'the', u'reflection', u'that', u'the', u'measures', u'of', u'the', u'last', u'Session', u'have', u'been', u'as', u'satisfactory', u'to', u'your', u'Constituents,', u'as', u'the', u'novelty', u'and', u'difficulty', u'of', u'the', u'work', u'allowed', u'you', u'to', u'hope.'], [u'\\u2014', u'Still', u'further', u'to', u'realize', u'their', u'expectations,', u'and', u'to', u'secure', u'the', u'blessings', u'which', u'a', u'Gracious', u'Providence', u'has', u'placed', u'within', u'our', u'reach,', u'will', u'in', u'the', u'course', u'of', u'the', u'present', u'important', u'Session,', u'call', u'for', u'the', u'cool', u'and', u'deliberate', u'exertion', u'of', u'your', u'patriotism,', u'firmness', u'and', u'wisdom.'], [u'Among', u'the', u'many', u'interesting', u'objects,', u'which', u'will', u'engage', u'your', u'attention,', u'that', u'of', u'providing', u'for', u'the', u'common', u'defence', u'will', u'merit', u'particular', u'regard.\\u2014', u'To', u'be', u'prepared', u'for', u'war', u'is', u'one', u'of', u'the', u'most', u'effectual', u'means', u'of', u'preserving', u'peace.\\u2014', u'A', u'free', u'people', u'ought', u'not', u'only', u'to', u'be', u'armed,', u'but', u'disciplined;\\u2014', u'to', u'which', u'end', u'a', u'uniform', u'and', u'well', u'digested', u'plan', u'is', u'requisite:', u'And', u'their', u'safety', u'and', u'interest', u'require', u'that', u'they', u'should', u'promote', u'such', u'manufactories,', u'as', u'tend', u'to', u'render', u'them', u'independent', u'others,', u'for', u'essential,', u'particularly', u'for', u'military', u'supplies.~', u'The', u'proper', u'establishment', u'of', u'the', u'Troops', u'which', u'may', u'be', u'deemed', u'indispensible,', u'will', u'be', u'entitled', u'to', u'mature', u'consideration.\\u2014', u'In', u'the', u'arrangements,', u'which', u'may', u'be', u'made', u'respecting', u'it,', u'it', u'will', u'be', u'of', u'importance', u'to', u'conciliate', u'the', u'comfortable', u'support', u'of', u'the', u'Officers', u'and', u'Soldiers', u'with', u'a', u'due', u'regard', u'to', u'oeconomy.~', u'There', u'was', u'reason', u'to', u'hope,', u'that', u'the', u'pacific', u'measures', u'adopted', u'with', u'regard', u'to', u'certain', u'hostile', u'tribes', u'of', u'Indians', u'would', u'have', u'relieved', u'the', u'Inhabitants', u'of', u'our', u'Southern', u'and', u'Western', u'frontiers', u'from', u'their', u'depredations.\\u2014', u'But', u'you', u'will', u'percieve,', u'from', u'the', u'information', u'contained', u'in', u'the', u'papers,', u'which', u'I', u'shall', u'direct', u'to', u'be', u'laid', u'before', u'you', u'(comprehending', u'a', u'communication', u'from', u'the', u'Commonwealth', u'of', u'Virginia)', u'that', u'we', u'ought', u'to', u'be', u'prepared', u'to', u'afford', u'protection', u'to', u'those', u'parts', u'of', u'the', u'Union;', u'and,', u'if', u'necessary', u'to', u'punish', u'aggressors.'], [u'The', u'interests', u'of', u'the', u'United', u'States', u'require,', u'that', u'our', u'intercourse', u'with', u'other', u'nations', u'should', u'be', u'facilitated,', u'by', u'such', u'provisions', u'as', u'will', u'enable', u'me', u'to', u'fulfill', u'my', u'duty', u'in', u'that', u'respect,', u'in', u'the', u'manner', u'which', u'circumstances', u'may', u'render', u'most', u'conducive', u'to', u'the', u'public', u'good:', u'And', u'to', u'this', u'end', u'that', u'the', u'compensation', u'to', u'be', u'made', u'to', u'the', u'persons', u'who', u'may', u'be', u'employed,', u'should', u'according', u'to', u'the', u'nature', u'of', u'their', u'appointments', u'be', u'defined', u'by', u'law;', u'and', u'a', u'competent', u'fund', u'designated', u'for', u'defraying', u'the', u'expenses', u'incident', u'to', u'the', u'conduct', u'of', u'foreign', u'affairs.~', u'Various', u'considerations', u'also', u'render', u'it', u'expedient,', u'that', u'the', u'terms', u'on', u'which', u'foreigners', u'may', u'be', u'admitted', u'to', u'the', u'rights', u'of', u'Citizens', u'should', u'be', u'speedily', u'ascertained', u'by', u'a', u'uniform', u'rule', u'of', u'naturalization.'], [u'Uniformity', u'in', u'the', u'Currency,', u'Weights', u'and', u'Measures', u'of', u'the', u'United', u'States', u'is', u'an', u'object', u'of', u'great', u'importance,', u'and', u'will', u'I', u'am', u'persuaded', u'be', u'duly', u'attended', u'to.'], [u'The', u'advancement', u'of', u'Agriculture,', u'Commerce,', u'and', u'Manufactures', u'by', u'all', u'proper', u'means,', u'will', u'not', u'I', u'trust,', u'need', u'recommendation.'], [u'But', u'I', u'cannot', u'forbear', u'intimating', u'to', u'you', u'the', u'expediency', u'of', u'giving', u'effectual', u'encouragement', u'as', u'well', u'to', u'the', u'introduction', u'of', u'new', u'and', u'useful', u'inventions', u'from', u'abroad,', u'as', u'to', u'the', u'exertions', u'of', u'skill', u'and', u'genius', u'in', u'producing', u'them', u'at', u'home;', u'and', u'of', u'facilitating', u'the', u'intercourse', u'between', u'the', u'distant', u'parts', u'of', u'our', u'Country', u'by', u'a', u'due', u'attention', u'to', u'the', u'Post-Office', u'and', u'Post', u'Roads.~', u'Nor', u'am', u'I', u'less', u'persuaded,', u'that', u'you', u'will', u'agree', u'with', u'me', u'in', u'opinion,', u'that', u'there', u'is', u'nothing,', u'which', u'can', u'better', u'deserve', u'your', u'patronage,', u'than', u'the', u'promotion', u'of', u'Science', u'and', u'Literature.'], [u'Knowledge', u'is', u'in', u'every', u'country', u'the', u'surest', u'basis', u'of', u'public', u'happiness.'], [u'In', u'one', u'in', u'which', u'the', u'measures', u'of', u'Government', u'receive', u'their', u'impression', u'so', u'immediately', u'from', u'the', u'sense', u'of', u'the', u'Community', u'as', u'in', u'ours,', u'it', u'is', u'proportionably', u'essential.'], [u'To', u'the', u'security', u'of', u'a', u'free', u'Constitution', u'it', u'contributes', u'in', u'various', u'ways:', u'By', u'convincing', u'those,', u'who', u'are', u'entrusted', u'with', u'the', u'public', u'administration,', u'that', u'every', u'valuable', u'end', u'of', u'Government', u'is', u'best', u'answered', u'by', u'the', u'enlightened', u'confidence', u'of', u'the', u'people:', u'And', u'by', u'teaching', u'the', u'people', u'themselves', u'to', u'know', u'and', u'to', u'value', u'their', u'own', u'rights;', u'to', u'discern', u'and', u'provide', u'against', u'invasions', u'of', u'them;', u'to', u'distinguish', u'between', u'oppression', u'and', u'the', u'necessary', u'exercise', u'of', u'lawful', u'authority;', u'between', u'burthens', u'proceeding', u'from', u'a', u'disregard', u'to', u'their', u'convenience', u'and', u'those', u'resulting', u'from', u'the', u'inevitable', u'exigencies', u'of', u'Society;', u'to', u'discriminate', u'the', u'spirit', u'of', u'liberty', u'from', u'that', u'of', u'licentiousness,', u'cherishing', u'the', u'first,', u'avoiding', u'the', u'last,', u'and', u'uniting', u'a', u'speedy,', u'but', u'temperate', u'vigilence', u'against', u'encroachments,', u'with', u'an', u'inviolable', u'respect', u'to', u'the', u'laws.'], [u'Whether', u'this', u'desirable', u'object', u'will', u'be', u'best', u'promoted', u'by', u'affording', u'aids', u'to', u'seminaries', u'of', u'learning', u'already', u'established--by', u'the', u'institution', u'of', u'a', u'national', u'University--or', u'by', u'any', u'other', u'expedients', u'will', u'be', u'well', u'worthy', u'of', u'a', u'place', u'in', u'the', u'deliberations', u'of', u'the', u'Legislature.'], [u'I', u'saw', u'with', u'peculiar', u'pleasure,', u'at', u'the', u'close', u'of', u'the', u'last', u'Session,', u'the', u'resolution', u'entered', u'into', u'by', u'you', u'expressive', u'of', u'your', u'opinion,', u'that', u'an', u'adequate', u'provision', u'for', u'the', u'support', u'of', u'the', u'public', u'credit', u'is', u'a', u'matter', u'of', u'high', u'importance', u'to', u'the', u'national', u'honor', u'and', u'prosperity.'], [u'In', u'this', u'sentiment,', u'I', u'entirely', u'concur.'], [u'And', u'to', u'a', u'perfect', u'confidence', u'in', u'your', u'best', u'endeavors', u'to', u'devise', u'such', u'a', u'provision,', u'as', u'will', u'be', u'truly', u'consistent', u'with', u'the', u'end,', u'I', u'add', u'an', u'equal', u'reliance', u'on', u'the', u'chearful', u'co-operation', u'of', u'the', u'other', u'branch', u'of', u'the', u'Legislature.'], [u'It', u'would', u'be', u'superfluous', u'to', u'specify', u'inducements', u'to', u'a', u'measure', u'in', u'which', u'the', u'Character', u'and', u'permanent', u'interests', u'of', u'the', u'United', u'States', u'are', u'so', u'obviously', u'and', u'so', u'deeply', u'concerned;', u'and', u'which', u'has', u'received', u'so', u'explicit', u'a', u'sanction', u'from', u'your', u'declaration.'], [u'I', u'have', u'directed', u'the', u'proper', u'Officers', u'to', u'lay', u'before', u'you', u'respectively', u'such', u'papers', u'and', u'estimates', u'as', u'regard', u'the', u'affairs,', u'particularly', u'recommended', u'to', u'your', u'consideration', u'and', u'necessary', u'to', u'convey', u'to', u'you', u'that', u'information', u'of', u'the', u'state', u'of', u'the', u'Union,', u'which', u'it', u'is', u'my', u'duty', u'to', u'afford.'], [u'The', u'welfare', u'of', u'our', u'Country', u'is', u'the', u'great', u'object', u'to', u'which', u'our', u'cares', u'and', u'efforts', u'ought', u'to', u'be', u'directed.'], [u'And', u'I', u'shall', u'derive', u'great', u'satisfaction', u'from', u'a', u'co-operation', u'with', u'you,', u'in', u'the', u'pleasing', u'tho', u'arduous', u'task', u'of', u'ensuring', u'to', u'our', u'fellow-citizens', u'the', u'blessings', u'which', u'they', u'have', u'a', u'right', u'to', u'expect', u'from', u'a', u'free,', u'efficient', u'and', u'equal', u'Government.']]\n",
      "[[u'Fellow-Citizens', u'of', u'the', u'Senate', u'and', u'the', u'House', u'of', u'Representatives:', u'In', u'meeting', u'you', u'again', u'I', u'feel', u'much', u'satisfaction', u'in', u'being', u'able', u'to', u'repeat', u'my', u'congratulations', u'on', u'the', u'favorable', u'prospects', u'which', u'continue', u'to', u'distinguish', u'our', u'public', u'affairs.'], [u'The', u'abundant', u'fruits', u'of', u'another', u'year', u'have', u'blessed', u'our', u'country', u'with', u'plenty', u'and', u'with', u'the', u'means', u'of', u'a', u'flourishing', u'commerce.'], [u'The', u'progress', u'of', u'public', u'credit', u'is', u'witnessed', u'by', u'a', u'considerable', u'rise', u'of', u'American', u'stock', u'abroad', u'as', u'well', u'as', u'at', u'home,', u'and', u'the', u'revenues', u'allotted', u'for', u'this', u'and', u'other', u'national', u'purposes', u'have', u'been', u'productive', u'beyond', u'the', u'calculations', u'by', u'which', u'they', u'were', u'regulated.'], [u'This', u'latter', u'circumstance', u'is', u'the', u'more', u'pleasing,', u'as', u'it', u'is', u'not', u'only', u'a', u'proof', u'of', u'the', u'fertility', u'of', u'our', u'resources,', u'but', u'as', u'it', u'assures', u'us', u'of', u'a', u'further', u'increase', u'of', u'the', u'national', u'respectability', u'and', u'credit,', u'and,', u'let', u'me', u'add,', u'as', u'it', u'bears', u'an', u'honorable', u'testimony', u'to', u'the', u'patriotism', u'and', u'integrity', u'of', u'the', u'mercantile', u'and', u'marine', u'part', u'of', u'our', u'citizens.'], [u'The', u'punctuality', u'of', u'the', u'former', u'in', u'discharging', u'their', u'engagements', u'has', u'been', u'exemplary.'], [u'In', u'conformity', u'to', u'the', u'powers', u'vested', u'in', u'me', u'by', u'acts', u'of', u'the', u'last', u'session,', u'a', u'loan', u'of', u'3,000,000', u'florins,', u'toward', u'which', u'some', u'provisional', u'measures', u'had', u'previously', u'taken', u'place,', u'has', u'been', u'completed', u'in', u'Holland.'], [u'As', u'well', u'the', u'celerity', u'with', u'which', u'it', u'has', u'been', u'filled', u'as', u'the', u'nature', u'of', u'the', u'terms', u'(considering', u'the', u'more', u'than', u'ordinary', u'demand', u'for', u'borrowing', u'created', u'by', u'the', u'situation', u'of', u'Europe)', u'give', u'a', u'reasonable', u'hope', u'that', u'the', u'further', u'execution', u'of', u'those', u'powers', u'may', u'proceed', u'with', u'advantage', u'and', u'success.'], [u'The', u'Secretary', u'of', u'the', u'Treasury', u'has', u'my', u'directions', u'to', u'communicate', u'such', u'further', u'particulars', u'as', u'may', u'be', u'requisite', u'for', u'more', u'precise', u'information.'], [u'Since', u'your', u'last', u'sessions', u'I', u'have', u'received', u'communications', u'by', u'which', u'it', u'appears', u'that', u'the', u'district', u'of', u'Kentucky,', u'at', u'present', u'a', u'part', u'of', u'Virginia,', u'has', u'concurred', u'in', u'certain', u'propositions', u'contained', u'in', u'a', u'law', u'of', u'that', u'State,', u'in', u'consequence', u'of', u'which', u'the', u'district', u'is', u'to', u'become', u'a', u'distinct', u'member', u'of', u'the', u'Union,', u'in', u'case', u'the', u'requisite', u'sanction', u'of', u'Congress', u'be', u'added.'], [u'For', u'this', u'sanction', u'application', u'is', u'now', u'made.'], [u'I', u'shall', u'cause', u'the', u'papers', u'on', u'this', u'very', u'transaction', u'to', u'be', u'laid', u'before', u'you.'], [u'The', u'liberality', u'and', u'harmony', u'with', u'which', u'it', u'has', u'been', u'conducted', u'will', u'be', u'found', u'to', u'do', u'great', u'honor', u'to', u'both', u'the', u'parties,', u'and', u'the', u'sentiments', u'of', u'warm', u'attachment', u'to', u'the', u'Union', u'and', u'its', u'present', u'Government', u'expressed', u'by', u'our', u'fellow', u'citizens', u'of', u'Kentucky', u'can', u'not', u'fail', u'to', u'add', u'an', u'affectionate', u'concern', u'for', u'their', u'particular', u'welfare', u'to', u'the', u'great', u'national', u'impressions', u'under', u'which', u'you', u'will', u'decide', u'on', u'the', u'case', u'submitted', u'to', u'you.'], [u'It', u'has', u'been', u'heretofore', u'known', u'to', u'Congress', u'that', u'frequent', u'incursion', u'have', u'been', u'made', u'on', u'our', u'frontier', u'settlements', u'by', u'certain', u'banditti', u'of', u'Indians', u'from', u'the', u'northwest', u'side', u'of', u'the', u'Ohio.'], [u'These,', u'with', u'some', u'of', u'the', u'tribes', u'dwelling', u'on', u'and', u'near', u'the', u'Wabash,', u'have', u'of', u'late', u'been', u'particularly', u'active', u'in', u'their', u'depredations,', u'and', u'being', u'emboldened', u'by', u'the', u'impunity', u'of', u'their', u'crimes', u'and', u'aided', u'by', u'such', u'parts', u'of', u'the', u'neighboring', u'tribes', u'as', u'could', u'be', u'seduced', u'to', u'join', u'in', u'their', u'hostilities', u'or', u'afford', u'them', u'a', u'retreat', u'for', u'their', u'prisoners', u'and', u'plunder,', u'they', u'have,', u'instead', u'of', u'listening', u'to', u'the', u'humane', u'invitations', u'and', u'overtures', u'made', u'on', u'the', u'part', u'of', u'the', u'United', u'States,', u'renewed', u'their', u'violences', u'with', u'fresh', u'alacrity', u'and', u'greater', u'effect.'], [u'The', u'lives', u'of', u'a', u'number', u'of', u'valuable', u'citizens', u'have', u'thus', u'been', u'sacrificed,', u'and', u'some', u'of', u'them', u'under', u'circumstances', u'peculiarly', u'shocking,', u'whilst', u'others', u'have', u'been', u'carried', u'into', u'a', u'deplorable', u'captivity.'], [u'These', u'aggravated', u'provocations', u'rendered', u'it', u'essential', u'to', u'the', u'safety', u'of', u'the', u'Western', u'settlements', u'that', u'the', u'aggressors', u'should', u'be', u'made', u'sensible', u'that', u'the', u'Government', u'of', u'the', u'Union', u'is', u'not', u'less', u'capable', u'of', u'punishing', u'their', u'crimes', u'than', u'it', u'is', u'disposed', u'to', u'respect', u'their', u'rights', u'and', u'reward', u'their', u'attachments.'], [u'As', u'this', u'object', u'could', u'not', u'be', u'effected', u'by', u'defensive', u'measures,', u'it', u'became', u'necessary', u'to', u'put', u'in', u'force', u'the', u'act', u'which', u'empowers', u'the', u'President', u'to', u'call', u'out', u'the', u'militia', u'for', u'the', u'protection', u'of', u'the', u'frontiers,', u'and', u'I', u'have', u'accordingly', u'authorized', u'an', u'expedition', u'in', u'which', u'the', u'regular', u'troops', u'in', u'that', u'quarter', u'are', u'combined', u'with', u'such', u'drafts', u'of', u'militia', u'as', u'were', u'deemed', u'sufficient.'], [u'The', u'event', u'of', u'the', u'measure', u'is', u'yet', u'unknown', u'to', u'me.'], [u'The', u'Secretary', u'of', u'War', u'is', u'directed', u'to', u'lay', u'before', u'you', u'a', u'statement', u'of', u'the', u'information', u'on', u'which', u'it', u'is', u'founded,', u'as', u'well', u'as', u'an', u'estimate', u'of', u'the', u'expense', u'with', u'which', u'it', u'will', u'be', u'attended.'], [u'The', u'disturbed', u'situation', u'of', u'Europe,', u'and', u'particularly', u'the', u'critical', u'posture', u'of', u'the', u'great', u'maritime', u'powers,', u'whilst', u'it', u'ought', u'to', u'make', u'us', u'the', u'more', u'thankful', u'for', u'the', u'general', u'peace', u'and', u'security', u'enjoyed', u'by', u'the', u'United', u'States,', u'reminds', u'us', u'at', u'the', u'same', u'time', u'of', u'the', u'circumspection', u'with', u'which', u'it', u'becomes', u'us', u'to', u'preserve', u'these', u'blessings.'], [u'It', u'requires', u'also', u'that', u'we', u'should', u'not', u'overlook', u'the', u'tendency', u'of', u'a', u'war,', u'and', u'even', u'of', u'preparations', u'for', u'a', u'war,', u'among', u'the', u'nations', u'most', u'concerned', u'in', u'active', u'commerce', u'with', u'this', u'country', u'to', u'abridge', u'the', u'means,', u'and', u'thereby', u'at', u'least', u'enhance', u'the', u'price,', u'of', u'transporting', u'its', u'valuable', u'productions', u'to', u'their', u'markets.'], [u'I', u'recommend', u'it', u'to', u'your', u'serious', u'reflections', u'how', u'far', u'and', u'in', u'what', u'mode', u'it', u'may', u'be', u'expedient', u'to', u'guard', u'against', u'embarrassments', u'from', u'these', u'contingencies', u'by', u'such', u'encouragements', u'to', u'our', u'own', u'navigation', u'as', u'will', u'render', u'our', u'commerce', u'and', u'agriculture', u'less', u'dependent', u'on', u'foreign', u'bottoms,', u'which', u'may', u'fail', u'us', u'in', u'the', u'very', u'moments', u'most', u'interesting', u'to', u'both', u'of', u'these', u'great', u'objects.'], [u'Our', u'fisheries', u'and', u'the', u'transportation', u'of', u'our', u'own', u'produce', u'offer', u'us', u'abundant', u'means', u'for', u'guarding', u'ourselves', u'against', u'this', u'evil.'], [u'Your', u'attention', u'seems', u'to', u'be', u'not', u'less', u'due', u'to', u'that', u'particular', u'branch', u'of', u'our', u'trade', u'which', u'belongs', u'to', u'the', u'Mediterranean.'], [u'So', u'many', u'circumstances', u'unite', u'in', u'rendering', u'the', u'present', u'state', u'of', u'it', u'distressful', u'to', u'us', u'that', u'you', u'will', u'not', u'think', u'any', u'deliberations', u'misemployed', u'which', u'may', u'lead', u'to', u'its', u'relief', u'and', u'protection.'], [u'The', u'laws', u'you', u'have', u'already', u'passed', u'for', u'the', u'establishment', u'of', u'a', u'judiciary', u'system', u'have', u'opened', u'the', u'doors', u'of', u'justice', u'to', u'all', u'descriptions', u'of', u'persons.'], [u'You', u'will', u'consider', u'in', u'your', u'wisdom', u'whether', u'improvements', u'in', u'that', u'system', u'may', u'yet', u'be', u'made,', u'and', u'particularly', u'whether', u'an', u'uniform', u'process', u'of', u'execution', u'on', u'sentences', u'issuing', u'from', u'the', u'Federal', u'courts', u'be', u'not', u'desirable', u'through', u'all', u'the', u'States.'], [u'The', u'patronage', u'of', u'our', u'commerce,', u'of', u'our', u'merchants', u'and', u'sea', u'men,', u'has', u'called', u'for', u'the', u'appointment', u'of', u'consuls', u'in', u'foreign', u'countries.'], [u'It', u'seems', u'expedient', u'to', u'regulate', u'by', u'law', u'the', u'exercise', u'of', u'that', u'jurisdiction', u'and', u'those', u'functions', u'which', u'are', u'permitted', u'them,', u'either', u'by', u'express', u'convention', u'or', u'by', u'a', u'friendly', u'indulgence,', u'in', u'the', u'places', u'of', u'their', u'residence.'], [u'The', u'consular', u'convention,', u'too,', u'with', u'His', u'Most', u'Christian', u'Majesty', u'has', u'stipulated', u'in', u'certain', u'cases', u'the', u'aid', u'of', u'the', u'national', u'authority', u'to', u'his', u'consuls', u'established', u'here.'], [u'Some', u'legislative', u'provision', u'is', u'requisite', u'to', u'carry', u'these', u'stipulations', u'into', u'full', u'effect.'], [u'The', u'establishment', u'of', u'the', u'militia,', u'of', u'a', u'mint,', u'of', u'standards', u'of', u'weights', u'and', u'measures,', u'of', u'the', u'post', u'office', u'and', u'post', u'roads', u'are', u'subjects', u'which', u'I', u'presume', u'you', u'will', u'resume', u'of', u'course,', u'and', u'which', u'are', u'abundantly', u'urged', u'by', u'their', u'own', u'importance.'], [u'Gentlemen', u'of', u'the', u'House', u'of', u'Representatives:', u'The', u'sufficiency', u'of', u'the', u'revenues', u'you', u'have', u'established', u'for', u'the', u'objects', u'to', u'which', u'they', u'are', u'appropriated', u'leaves', u'no', u'doubt', u'that', u'the', u'residuary', u'provisions', u'will', u'be', u'commensurate', u'to', u'the', u'other', u'objects', u'for', u'which', u'the', u'public', u'faith', u'stands', u'now', u'pledged.'], [u'Allow', u'me,', u'moreover,', u'to', u'hope', u'that', u'it', u'will', u'be', u'a', u'favorite', u'policy', u'with', u'you,', u'not', u'merely', u'to', u'secure', u'a', u'payment', u'of', u'the', u'interest', u'of', u'the', u'debt', u'funded,', u'but', u'as', u'far', u'and', u'as', u'fast', u'as', u'the', u'growing', u'resources', u'of', u'the', u'country', u'will', u'permit', u'to', u'exonerate', u'it', u'of', u'the', u'principal', u'itself.'], [u'The', u'appropriation', u'you', u'have', u'made', u'of', u'the', u'Western', u'land', u'explains', u'your', u'dispositions', u'on', u'this', u'subject,', u'and', u'I', u'am', u'persuaded', u'that', u'the', u'sooner', u'that', u'valuable', u'fund', u'can', u'be', u'made', u'to', u'contribute,', u'along', u'with', u'the', u'other', u'means,', u'to', u'the', u'actual', u'reduction', u'of', u'the', u'public', u'debt', u'the', u'more', u'salutary', u'will', u'the', u'measure', u'be', u'to', u'every', u'public', u'interest,', u'as', u'well', u'as', u'the', u'more', u'satisfactory', u'to', u'our', u'constituents.'], [u'Gentlemen', u'of', u'the', u'Senate', u'and', u'House', u'of', u'Representatives:', u'In', u'pursuing', u'the', u'various', u'and', u'weighty', u'business', u'of', u'the', u'present', u'session', u'I', u'indulge', u'the', u'fullest', u'persuasion', u'that', u'your', u'consultation', u'will', u'be', u'equally', u'marked', u'with', u'wisdom', u'and', u'animated', u'by', u'the', u'love', u'of', u'your', u'country.'], [u'In', u'whatever', u'belongs', u'to', u'my', u'duty', u'you', u'shall', u'have', u'all', u'the', u'cooperation', u'which', u'an', u'undiminished', u'zeal', u'for', u'its', u'welfare', u'can', u'inspire.'], [u'It', u'will', u'be', u'happy', u'for', u'us', u'both,', u'and', u'our', u'best', u'reward,', u'if,', u'by', u'a', u'successful', u'administration', u'of', u'our', u'respective', u'trusts,', u'we', u'can', u'make', u'the', u'established', u'Government', u'more', u'and', u'more', u'instrumental', u'in', u'promoting', u'the', u'good', u'of', u'our', u'fellow', u'citizens,', u'and', u'more', u'and', u'more', u'the', u'object', u'of', u'their', u'attachment', u'and', u'confidence.'], [u'George', u'Washington']]\n"
     ]
    }
   ],
   "source": [
    "import nltk\n",
    "from nltk import tokenize\n",
    "from nltk.collocations import *\n",
    "from bs4 import BeautifulSoup\n",
    "from collections import Counter\n",
    "from elasticsearch import Elasticsearch\n",
    "import re\n",
    "\n",
    "tokenizer = nltk.WhitespaceTokenizer()\n",
    "\n",
    "allData = {}\n",
    "for url in urls[:2]:\n",
    "    u = URL(url)\n",
    "    h = u.download()\n",
    "    soup = BeautifulSoup(h, 'lxml')\n",
    "    text = ''.join([p.text + ' ' for p in soup.find(\"div\", {\"id\": \"mw-content-text\"}).find_all('p')[:-1]])\n",
    "    sentences = [tokenizer.tokenize(sent) for sent in nltk.sent_tokenize(text)]\n",
    "    html = unicode(''.join([str(p) for p in soup.find(\"div\", {\"id\":\"mw-content-text\"}).find_all('p')[:-1]]), errors='ignore')\n",
    "    headOfState = soup.find(\"span\", {\"class\" : \"fn\"}).text\n",
    "    if \"by \" in headOfState:\n",
    "        headOfState = headOfState.strip(\"by \")\n",
    "    try:\n",
    "        year = int(re.search(r'\\d+', soup.find(\"div\", {\"class\" : \"gen_header_title\"}).text).group())\n",
    "    except: \n",
    "        year = year + 1\n",
    "    title = \"State of the Union Address \" + str(year)\n",
    "    \n",
    "    if headOfState not in allData.keys():\n",
    "        allData[headOfState] = {}\n",
    "    documentData = {}\n",
    "    documentData['full text'] = text\n",
    "    documentData['html'] = html\n",
    "    documentData['sentences'] = sentences\n",
    "    documentData['year'] = year\n",
    "    allData[headOfState][title] = documentData\n"
   ]
  },
  {
   "cell_type": "code",
   "execution_count": 9,
   "metadata": {
    "collapsed": false
   },
   "outputs": [
    {
     "data": {
      "text/html": [
       "<div>\n",
       "<table border=\"1\" class=\"dataframe\">\n",
       "  <thead>\n",
       "    <tr style=\"text-align: right;\">\n",
       "      <th></th>\n",
       "      <th>full text</th>\n",
       "      <th>html</th>\n",
       "      <th>year</th>\n",
       "      <th>sentences</th>\n",
       "      <th>title</th>\n",
       "      <th>head of state</th>\n",
       "    </tr>\n",
       "  </thead>\n",
       "  <tbody>\n",
       "    <tr>\n",
       "      <th>0</th>\n",
       "      <td>Fellow-Citizens of the Senate and the House of...</td>\n",
       "      <td>&lt;p&gt;&lt;i&gt;Fellow-Citizens of the Senate and the Ho...</td>\n",
       "      <td>1790</td>\n",
       "      <td>[[Fellow-Citizens, of, the, Senate, and, the, ...</td>\n",
       "      <td>State of the Union Address 1790</td>\n",
       "      <td>George Washington</td>\n",
       "    </tr>\n",
       "    <tr>\n",
       "      <th>1</th>\n",
       "      <td>Fellow-Citizens of the Senate and the House of...</td>\n",
       "      <td>&lt;p&gt;&lt;i&gt;Fellow-Citizens of the Senate and the Ho...</td>\n",
       "      <td>1791</td>\n",
       "      <td>[[Fellow-Citizens, of, the, Senate, and, the, ...</td>\n",
       "      <td>State of the Union Address 1791</td>\n",
       "      <td>George Washington</td>\n",
       "    </tr>\n",
       "    <tr>\n",
       "      <th>2</th>\n",
       "      <td>Fellow-Citizens of the Senate and of the House...</td>\n",
       "      <td>&lt;p&gt;&lt;i&gt;Fellow-Citizens of the Senate and of the...</td>\n",
       "      <td>1792</td>\n",
       "      <td>[[Fellow-Citizens, of, the, Senate, and, of, t...</td>\n",
       "      <td>State of the Union Address 1792</td>\n",
       "      <td>George Washington</td>\n",
       "    </tr>\n",
       "    <tr>\n",
       "      <th>3</th>\n",
       "      <td>Fellow Citizens of the Senate and of the House...</td>\n",
       "      <td>&lt;p&gt;&lt;i&gt;Fellow Citizens of the Senate and of the...</td>\n",
       "      <td>1793</td>\n",
       "      <td>[[Fellow, Citizens, of, the, Senate, and, of, ...</td>\n",
       "      <td>State of the Union Address 1793</td>\n",
       "      <td>George Washington</td>\n",
       "    </tr>\n",
       "    <tr>\n",
       "      <th>4</th>\n",
       "      <td>Fellow Citizens of the Senate and of the House...</td>\n",
       "      <td>&lt;p&gt;&lt;i&gt;Fellow Citizens of the Senate and of the...</td>\n",
       "      <td>1794</td>\n",
       "      <td>[[Fellow, Citizens, of, the, Senate, and, of, ...</td>\n",
       "      <td>State of the Union Address 1794</td>\n",
       "      <td>George Washington</td>\n",
       "    </tr>\n",
       "  </tbody>\n",
       "</table>\n",
       "</div>"
      ],
      "text/plain": [
       "                                           full text  \\\n",
       "0  Fellow-Citizens of the Senate and the House of...   \n",
       "1  Fellow-Citizens of the Senate and the House of...   \n",
       "2  Fellow-Citizens of the Senate and of the House...   \n",
       "3  Fellow Citizens of the Senate and of the House...   \n",
       "4  Fellow Citizens of the Senate and of the House...   \n",
       "\n",
       "                                                html  year  \\\n",
       "0  <p><i>Fellow-Citizens of the Senate and the Ho...  1790   \n",
       "1  <p><i>Fellow-Citizens of the Senate and the Ho...  1791   \n",
       "2  <p><i>Fellow-Citizens of the Senate and of the...  1792   \n",
       "3  <p><i>Fellow Citizens of the Senate and of the...  1793   \n",
       "4  <p><i>Fellow Citizens of the Senate and of the...  1794   \n",
       "\n",
       "                                           sentences  \\\n",
       "0  [[Fellow-Citizens, of, the, Senate, and, the, ...   \n",
       "1  [[Fellow-Citizens, of, the, Senate, and, the, ...   \n",
       "2  [[Fellow-Citizens, of, the, Senate, and, of, t...   \n",
       "3  [[Fellow, Citizens, of, the, Senate, and, of, ...   \n",
       "4  [[Fellow, Citizens, of, the, Senate, and, of, ...   \n",
       "\n",
       "                             title      head of state  \n",
       "0  State of the Union Address 1790  George Washington  \n",
       "1  State of the Union Address 1791  George Washington  \n",
       "2  State of the Union Address 1792  George Washington  \n",
       "3  State of the Union Address 1793  George Washington  \n",
       "4  State of the Union Address 1794  George Washington  "
      ]
     },
     "execution_count": 9,
     "metadata": {},
     "output_type": "execute_result"
    }
   ],
   "source": [
    "import pandas as pd\n",
    "import certifi\n",
    "\n",
    "dataList = []\n",
    "for headofstate, address in allData.iteritems():\n",
    "    for key, value in address.iteritems():\n",
    "        l = value.values()\n",
    "        l.append(key)\n",
    "        l.append(headofstate)\n",
    "        dataList.append(l)\n",
    "\n",
    "\n",
    "df = pd.DataFrame(dataList)\n",
    "df.columns = ['full text', 'html', 'year', 'sentences', 'title', 'head of state']\n",
    "df = df.sort_values('year').reset_index(drop=True)\n",
    "\n",
    "es = Elasticsearch()\n",
    "\n",
    "df.head()"
   ]
  },
  {
   "cell_type": "code",
   "execution_count": 10,
   "metadata": {
    "collapsed": false
   },
   "outputs": [],
   "source": [
    "dfIter = list(df[['full text', 'head of state', 'year', 'sentences', 'title', 'html']].iterrows())\n",
    "for row in dfIter:\n",
    "    ID = row[0] + 1\n",
    "    es.index(index=\"unions\", doc_type=\"union\", id=ID, \\\n",
    "             body={\"speaker\" : row[1]['head of state'], \"year\" : row[1]['year'],\n",
    "                   \"text\" : row[1]['full text'], \"sentences\" : row[1]['sentences'], \n",
    "                   \"title\" : row[1]['title'], \"html\" : row[1]['html']})"
   ]
  },
  {
   "cell_type": "code",
   "execution_count": null,
   "metadata": {
    "collapsed": true
   },
   "outputs": [],
   "source": []
  }
 ],
 "metadata": {
  "anaconda-cloud": {},
  "kernelspec": {
   "display_name": "Python [Root]",
   "language": "python",
   "name": "Python [Root]"
  },
  "language_info": {
   "codemirror_mode": {
    "name": "ipython",
    "version": 2
   },
   "file_extension": ".py",
   "mimetype": "text/x-python",
   "name": "python",
   "nbconvert_exporter": "python",
   "pygments_lexer": "ipython2",
   "version": "2.7.11"
  }
 },
 "nbformat": 4,
 "nbformat_minor": 0
}
