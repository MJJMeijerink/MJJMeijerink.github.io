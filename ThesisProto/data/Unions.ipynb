{
 "cells": [
  {
   "cell_type": "code",
   "execution_count": 11,
   "metadata": {
    "collapsed": false
   },
   "outputs": [],
   "source": [
    "import pattern\n",
    "from pattern.web import URL, DOM\n",
    "\n",
    "\n",
    "url = URL('https://en.wikisource.org/wiki/Portal:State_of_the_Union_Speeches_by_United_States_Presidents')\n",
    "html = url.download()\n",
    "dom = DOM(html)\n",
    "\n",
    "urls = []\n",
    "for el in dom.by_id(\"mw-content-text\").by_tag('ul')[5:-2]:\n",
    "    for a in el.by_tag('a'):\n",
    "        if 'title' in a.attributes:\n",
    "            if 'Address' in a.content:\n",
    "                urls.append('https://en.wikisource.org' + a.href)"
   ]
  },
  {
   "cell_type": "code",
   "execution_count": 12,
   "metadata": {
    "collapsed": true
   },
   "outputs": [],
   "source": [
    "from HTMLParser import HTMLParser\n",
    "\n",
    "class MLStripper(HTMLParser):\n",
    "    def __init__(self):\n",
    "        self.reset()\n",
    "        self.fed = []\n",
    "    def handle_data(self, d):\n",
    "        self.fed.append(d)\n",
    "    def get_data(self):\n",
    "        return ''.join(self.fed)\n",
    "def strip_tags(html):\n",
    "    s = MLStripper()\n",
    "    s.feed(html)\n",
    "    return s.get_data()"
   ]
  },
  {
   "cell_type": "code",
   "execution_count": 13,
   "metadata": {
    "collapsed": false
   },
   "outputs": [],
   "source": [
    "import nltk\n",
    "from nltk import tokenize\n",
    "from nltk.collocations import *\n",
    "from bs4 import BeautifulSoup\n",
    "from collections import Counter\n",
    "from elasticsearch import Elasticsearch\n",
    "import re\n",
    "\n",
    "tokenizer = nltk.WhitespaceTokenizer()\n",
    "\n",
    "allData = {}\n",
    "for url in urls:\n",
    "    u = URL(url)\n",
    "    h = u.download()\n",
    "    soup = BeautifulSoup(h, 'lxml')\n",
    "    text = ''.join([p.text + ' ' for p in soup.find(\"div\", {\"id\": \"mw-content-text\"}).find_all('p')[:-1]])\n",
    "    sentences = [tokenizer.tokenize(sent) for sent in nltk.sent_tokenize(text)]\n",
    "    html = unicode(''.join([str(p) for p in soup.find(\"div\", {\"id\":\"mw-content-text\"}).find_all('p')[:-1]]), errors='ignore')\n",
    "    headOfState = soup.find(\"span\", {\"class\" : \"fn\"}).text\n",
    "    if \"by \" in headOfState:\n",
    "        headOfState = headOfState.strip(\"by \")\n",
    "    try:\n",
    "        year = int(re.search(r'\\d+', soup.find(\"div\", {\"class\" : \"gen_header_title\"}).text).group())\n",
    "    except: \n",
    "        year = year + 1\n",
    "    title = \"State of the Union Address \" + str(year)\n",
    "    \n",
    "    if headOfState not in allData.keys():\n",
    "        allData[headOfState] = {}\n",
    "    documentData = {}\n",
    "    documentData['full text'] = text\n",
    "    documentData['html'] = html\n",
    "    documentData['sentences'] = sentences\n",
    "    documentData['year'] = year\n",
    "    allData[headOfState][title] = documentData\n"
   ]
  },
  {
   "cell_type": "code",
   "execution_count": 14,
   "metadata": {
    "collapsed": false
   },
   "outputs": [
    {
     "data": {
      "text/html": [
       "<div>\n",
       "<table border=\"1\" class=\"dataframe\">\n",
       "  <thead>\n",
       "    <tr style=\"text-align: right;\">\n",
       "      <th></th>\n",
       "      <th>full text</th>\n",
       "      <th>html</th>\n",
       "      <th>year</th>\n",
       "      <th>sentences</th>\n",
       "      <th>title</th>\n",
       "      <th>head of state</th>\n",
       "    </tr>\n",
       "  </thead>\n",
       "  <tbody>\n",
       "    <tr>\n",
       "      <th>0</th>\n",
       "      <td>Fellow-Citizens of the Senate and the House of...</td>\n",
       "      <td>&lt;p&gt;&lt;i&gt;Fellow-Citizens of the Senate and the Ho...</td>\n",
       "      <td>1790</td>\n",
       "      <td>[[Fellow-Citizens, of, the, Senate, and, the, ...</td>\n",
       "      <td>State of the Union Address 1790</td>\n",
       "      <td>George Washington</td>\n",
       "    </tr>\n",
       "    <tr>\n",
       "      <th>1</th>\n",
       "      <td>Fellow-Citizens of the Senate and the House of...</td>\n",
       "      <td>&lt;p&gt;&lt;i&gt;Fellow-Citizens of the Senate and the Ho...</td>\n",
       "      <td>1791</td>\n",
       "      <td>[[Fellow-Citizens, of, the, Senate, and, the, ...</td>\n",
       "      <td>State of the Union Address 1791</td>\n",
       "      <td>George Washington</td>\n",
       "    </tr>\n",
       "    <tr>\n",
       "      <th>2</th>\n",
       "      <td>Fellow-Citizens of the Senate and of the House...</td>\n",
       "      <td>&lt;p&gt;&lt;i&gt;Fellow-Citizens of the Senate and of the...</td>\n",
       "      <td>1792</td>\n",
       "      <td>[[Fellow-Citizens, of, the, Senate, and, of, t...</td>\n",
       "      <td>State of the Union Address 1792</td>\n",
       "      <td>George Washington</td>\n",
       "    </tr>\n",
       "    <tr>\n",
       "      <th>3</th>\n",
       "      <td>Fellow Citizens of the Senate and of the House...</td>\n",
       "      <td>&lt;p&gt;&lt;i&gt;Fellow Citizens of the Senate and of the...</td>\n",
       "      <td>1793</td>\n",
       "      <td>[[Fellow, Citizens, of, the, Senate, and, of, ...</td>\n",
       "      <td>State of the Union Address 1793</td>\n",
       "      <td>George Washington</td>\n",
       "    </tr>\n",
       "    <tr>\n",
       "      <th>4</th>\n",
       "      <td>Fellow Citizens of the Senate and of the House...</td>\n",
       "      <td>&lt;p&gt;&lt;i&gt;Fellow Citizens of the Senate and of the...</td>\n",
       "      <td>1794</td>\n",
       "      <td>[[Fellow, Citizens, of, the, Senate, and, of, ...</td>\n",
       "      <td>State of the Union Address 1794</td>\n",
       "      <td>George Washington</td>\n",
       "    </tr>\n",
       "  </tbody>\n",
       "</table>\n",
       "</div>"
      ],
      "text/plain": [
       "                                           full text  \\\n",
       "0  Fellow-Citizens of the Senate and the House of...   \n",
       "1  Fellow-Citizens of the Senate and the House of...   \n",
       "2  Fellow-Citizens of the Senate and of the House...   \n",
       "3  Fellow Citizens of the Senate and of the House...   \n",
       "4  Fellow Citizens of the Senate and of the House...   \n",
       "\n",
       "                                                html  year  \\\n",
       "0  <p><i>Fellow-Citizens of the Senate and the Ho...  1790   \n",
       "1  <p><i>Fellow-Citizens of the Senate and the Ho...  1791   \n",
       "2  <p><i>Fellow-Citizens of the Senate and of the...  1792   \n",
       "3  <p><i>Fellow Citizens of the Senate and of the...  1793   \n",
       "4  <p><i>Fellow Citizens of the Senate and of the...  1794   \n",
       "\n",
       "                                           sentences  \\\n",
       "0  [[Fellow-Citizens, of, the, Senate, and, the, ...   \n",
       "1  [[Fellow-Citizens, of, the, Senate, and, the, ...   \n",
       "2  [[Fellow-Citizens, of, the, Senate, and, of, t...   \n",
       "3  [[Fellow, Citizens, of, the, Senate, and, of, ...   \n",
       "4  [[Fellow, Citizens, of, the, Senate, and, of, ...   \n",
       "\n",
       "                             title      head of state  \n",
       "0  State of the Union Address 1790  George Washington  \n",
       "1  State of the Union Address 1791  George Washington  \n",
       "2  State of the Union Address 1792  George Washington  \n",
       "3  State of the Union Address 1793  George Washington  \n",
       "4  State of the Union Address 1794  George Washington  "
      ]
     },
     "execution_count": 14,
     "metadata": {},
     "output_type": "execute_result"
    }
   ],
   "source": [
    "import pandas as pd\n",
    "import certifi\n",
    "\n",
    "dataList = []\n",
    "for headofstate, address in allData.iteritems():\n",
    "    for key, value in address.iteritems():\n",
    "        l = value.values()\n",
    "        l.append(key)\n",
    "        l.append(headofstate)\n",
    "        dataList.append(l)\n",
    "\n",
    "\n",
    "df = pd.DataFrame(dataList)\n",
    "df.columns = ['full text', 'html', 'year', 'sentences', 'title', 'head of state']\n",
    "df = df.sort_values('year').reset_index(drop=True)\n",
    "\n",
    "es = Elasticsearch()\n",
    "\n",
    "df.head()"
   ]
  },
  {
   "cell_type": "code",
   "execution_count": 15,
   "metadata": {
    "collapsed": false
   },
   "outputs": [
    {
     "name": "stderr",
     "output_type": "stream",
     "text": [
      "D:\\Anaconda2\\lib\\site-packages\\elasticsearch\\client\\__init__.py:278: UnicodeWarning: Unicode equal comparison failed to convert both arguments to Unicode - interpreting them as being unequal\n",
      "  _, data = self.transport.perform_request('POST' if id in SKIP_IN_PATH else 'PUT',\n",
      "D:\\Anaconda2\\lib\\site-packages\\elasticsearch\\client\\utils.py:47: UnicodeWarning: Unicode equal comparison failed to convert both arguments to Unicode - interpreting them as being unequal\n",
      "  quote_plus(_escape(p), b',*') for p in parts if p not in SKIP_IN_PATH)\n"
     ]
    }
   ],
   "source": [
    "dfIter = list(df[['full text', 'head of state', 'year', 'sentences', 'title', 'html']].iterrows())\n",
    "for row in dfIter:\n",
    "    ID = row[0] + 1\n",
    "    es.index(index=\"unions\", doc_type=\"union\", id=ID, \\\n",
    "             body={\"speaker\" : row[1]['head of state'], \"year\" : row[1]['year'],\n",
    "                   \"text\" : row[1]['full text'], \"sentences\" : row[1]['sentences'], \n",
    "                   \"title\" : row[1]['title'], \"html\" : row[1]['html']})"
   ]
  },
  {
   "cell_type": "code",
   "execution_count": null,
   "metadata": {
    "collapsed": true
   },
   "outputs": [],
   "source": []
  }
 ],
 "metadata": {
  "anaconda-cloud": {},
  "kernelspec": {
   "display_name": "Python [Root]",
   "language": "python",
   "name": "Python [Root]"
  },
  "language_info": {
   "codemirror_mode": {
    "name": "ipython",
    "version": 2
   },
   "file_extension": ".py",
   "mimetype": "text/x-python",
   "name": "python",
   "nbconvert_exporter": "python",
   "pygments_lexer": "ipython2",
   "version": "2.7.11"
  }
 },
 "nbformat": 4,
 "nbformat_minor": 0
}
