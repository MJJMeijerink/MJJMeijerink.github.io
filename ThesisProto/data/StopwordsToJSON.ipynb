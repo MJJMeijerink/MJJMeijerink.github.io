{
 "cells": [
  {
   "cell_type": "code",
   "execution_count": 16,
   "metadata": {
    "collapsed": false
   },
   "outputs": [],
   "source": [
    "import json\n",
    "\n",
    "stopwords = {}\n",
    "with open('dutchStopwords.txt', 'r') as f:\n",
    "    stopwords['troonredes'] = [word.strip('\\n') for word in f.readlines()]\n",
    "    f.close()\n",
    "\n",
    "with open('engStopwords.txt', 'r') as f:\n",
    "    stopwords['unions'] = [word.strip('\\n') for word in f.readlines() if \"'\" not in word]\n",
    "    f.close()\n",
    "\n",
    "with open('stopwords.js', 'w') as f:\n",
    "    f.write('var stopwords = ' +json.dumps(stopwords))\n",
    "    f.close()"
   ]
  },
  {
   "cell_type": "code",
   "execution_count": null,
   "metadata": {
    "collapsed": true
   },
   "outputs": [],
   "source": []
  }
 ],
 "metadata": {
  "kernelspec": {
   "display_name": "Python [Root]",
   "language": "python",
   "name": "Python [Root]"
  },
  "language_info": {
   "codemirror_mode": {
    "name": "ipython",
    "version": 2
   },
   "file_extension": ".py",
   "mimetype": "text/x-python",
   "name": "python",
   "nbconvert_exporter": "python",
   "pygments_lexer": "ipython2",
   "version": "2.7.11"
  }
 },
 "nbformat": 4,
 "nbformat_minor": 0
}
